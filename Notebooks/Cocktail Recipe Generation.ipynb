{
 "cells": [
  {
   "cell_type": "code",
   "execution_count": 2,
   "id": "555bb34f-0735-40af-9224-8621bdadb7ae",
   "metadata": {},
   "outputs": [],
   "source": [
    "import pandas as pd"
   ]
  },
  {
   "cell_type": "code",
   "execution_count": 3,
   "id": "5cf66b02-3233-41c3-8167-e08cd18f9bf6",
   "metadata": {},
   "outputs": [
    {
     "name": "stdout",
     "output_type": "stream",
     "text": [
      "   quantity  unit         ingredient  ingredient_step  recipe_id\n",
      "0      45.0    ml           dark rum                0          0\n",
      "1      22.5    ml         lime juice                1          0\n",
      "2      15.0    ml              sugar                2          0\n",
      "3       1.0  dash  angostura bitters                3          0\n",
      "4       6.0  drop             pernod                4          0\n"
     ]
    }
   ],
   "source": [
    "# Load the cleaned data\n",
    "df = pd.read_csv('clean_df.csv')\n",
    "\n",
    "# Display the first few rows of the DataFrame to verify it's loaded correctly\n",
    "print(df.head())"
   ]
  },
  {
   "cell_type": "code",
   "execution_count": null,
   "id": "988b4fe6-3ef2-4e6f-8138-110d452fed96",
   "metadata": {},
   "outputs": [],
   "source": []
  },
  {
   "cell_type": "code",
   "execution_count": null,
   "id": "3e01af64-02fd-4e6b-847c-b4d93ad997f7",
   "metadata": {},
   "outputs": [],
   "source": []
  }
 ],
 "metadata": {
  "kernelspec": {
   "display_name": "Python 3 (ipykernel)",
   "language": "python",
   "name": "python3"
  },
  "language_info": {
   "codemirror_mode": {
    "name": "ipython",
    "version": 3
   },
   "file_extension": ".py",
   "mimetype": "text/x-python",
   "name": "python",
   "nbconvert_exporter": "python",
   "pygments_lexer": "ipython3",
   "version": "3.8.19"
  }
 },
 "nbformat": 4,
 "nbformat_minor": 5
}
