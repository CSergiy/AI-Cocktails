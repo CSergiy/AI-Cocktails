{
 "cells": [
  {
   "cell_type": "markdown",
   "id": "b81e220a",
   "metadata": {},
   "source": [
    "# Data Preprocessing Notebook"
   ]
  },
  {
   "cell_type": "markdown",
   "id": "619dfd68",
   "metadata": {},
   "source": [
    "# Introduction"
   ]
  },
  {
   "cell_type": "markdown",
   "id": "96175cea",
   "metadata": {},
   "source": [
    "The initial dataset being sourced is from the HuggingFace library, (https://huggingface.co/datasets/brianarbuckle/cocktail_recipes)\n",
    "\n",
    "This initial dataset contains columns `title`, `ingredients`, `directions`, `misc`, `source`, and `ner`."
   ]
  },
  {
   "cell_type": "markdown",
   "id": "94eaf8b5",
   "metadata": {},
   "source": [
    "**Overview**\n",
    "The 'Ingredients' column of our dataset presents a unique challenge. It consists of objects, each being a list of strings, where each string details a part of a cocktail recipe. These details typically include the quantity, unit, and name of an ingredient, but they can also contain preparation instructions or garnishing details that are not directly usable in their current form for data analysis or recipe generation.\n",
    "\n",
    "**Objective**\n",
    "Our goal is to parse these strings to extract structured information that can be effectively utilized in our project. Specifically, we aim to separate the ingredient details into distinct components: quantity, unit, and ingredient name, while filtering out the non-ingredient related information."
   ]
  },
  {
   "cell_type": "markdown",
   "id": "35d75485",
   "metadata": {},
   "source": [
    "## Imports"
   ]
  },
  {
   "cell_type": "code",
   "execution_count": 1,
   "id": "0709db92",
   "metadata": {},
   "outputs": [],
   "source": [
    "import pandas as pd\n",
    "import re\n",
    "from datasets import load_dataset\n",
    "import matplotlib.pyplot as plt\n",
    "import seaborn as sns"
   ]
  },
  {
   "cell_type": "markdown",
   "id": "cfae6773",
   "metadata": {},
   "source": [
    "pip install datasetsto access HuggingFace datasets library"
   ]
  },
  {
   "cell_type": "code",
   "execution_count": 2,
   "id": "8e4cc2f5",
   "metadata": {},
   "outputs": [],
   "source": [
    "#!pip install datasets"
   ]
  },
  {
   "cell_type": "markdown",
   "id": "86db655e",
   "metadata": {},
   "source": [
    "# Initial Data Inspection"
   ]
  },
  {
   "cell_type": "code",
   "execution_count": 3,
   "id": "d3e9278b",
   "metadata": {},
   "outputs": [],
   "source": [
    "# Loading the cocktail_recipes dataset\n",
    "dataset = load_dataset('brianarbuckle/cocktail_recipes')"
   ]
  },
  {
   "cell_type": "code",
   "execution_count": 4,
   "id": "88c2c75f",
   "metadata": {},
   "outputs": [],
   "source": [
    "df = pd.DataFrame(dataset['train'])"
   ]
  },
  {
   "cell_type": "code",
   "execution_count": 5,
   "id": "a4e85062",
   "metadata": {},
   "outputs": [
    {
     "data": {
      "text/html": [
       "<div>\n",
       "<style scoped>\n",
       "    .dataframe tbody tr th:only-of-type {\n",
       "        vertical-align: middle;\n",
       "    }\n",
       "\n",
       "    .dataframe tbody tr th {\n",
       "        vertical-align: top;\n",
       "    }\n",
       "\n",
       "    .dataframe thead th {\n",
       "        text-align: right;\n",
       "    }\n",
       "</style>\n",
       "<table border=\"1\" class=\"dataframe\">\n",
       "  <thead>\n",
       "    <tr style=\"text-align: right;\">\n",
       "      <th></th>\n",
       "      <th>title</th>\n",
       "      <th>ingredients</th>\n",
       "      <th>directions</th>\n",
       "      <th>misc</th>\n",
       "      <th>source</th>\n",
       "      <th>ner</th>\n",
       "    </tr>\n",
       "  </thead>\n",
       "  <tbody>\n",
       "    <tr>\n",
       "      <th>0</th>\n",
       "      <td>151 Swizzle</td>\n",
       "      <td>[1.5 oz. 151-Proof Demerara Rum [Lemon Hart or...</td>\n",
       "      <td>[]</td>\n",
       "      <td>[]</td>\n",
       "      <td>Beachbum Berry Remixed</td>\n",
       "      <td>[pernod, rum]</td>\n",
       "    </tr>\n",
       "    <tr>\n",
       "      <th>1</th>\n",
       "      <td>20th Century</td>\n",
       "      <td>[The 21st Century, 2 oz. Siete Leguas Blanco T...</td>\n",
       "      <td>[shake on ice and strain into coupe , The Best...</td>\n",
       "      <td>[]</td>\n",
       "      <td>Jim Meehan</td>\n",
       "      <td>[cocchi americano, pernod, tequila]</td>\n",
       "    </tr>\n",
       "    <tr>\n",
       "      <th>2</th>\n",
       "      <td>20th Century</td>\n",
       "      <td>[1.5 oz. Plymouth Gin, 3\\/4 oz. Mari Brizard W...</td>\n",
       "      <td>[shake on ice and strain]</td>\n",
       "      <td>[]</td>\n",
       "      <td>PDT</td>\n",
       "      <td>[lillet, gin]</td>\n",
       "    </tr>\n",
       "    <tr>\n",
       "      <th>3</th>\n",
       "      <td>Abbey Cocktail</td>\n",
       "      <td>[]</td>\n",
       "      <td>[Shake liquid ingredients with ice., Strain in...</td>\n",
       "      <td>[Suggested glassware is Cocktail Glass]</td>\n",
       "      <td>The Ultimate Bar Book</td>\n",
       "      <td>[]</td>\n",
       "    </tr>\n",
       "    <tr>\n",
       "      <th>4</th>\n",
       "      <td>Absinthe Drip</td>\n",
       "      <td>[1 1/2 ounces Pernod (or other absinthe substi...</td>\n",
       "      <td>[Pour Pernod into a pousse-caf or sour glass....</td>\n",
       "      <td>[The Absinthe Drip was made famous by Toulouse...</td>\n",
       "      <td>The Ultimate Bar Book</td>\n",
       "      <td>[pernod, absinthe]</td>\n",
       "    </tr>\n",
       "  </tbody>\n",
       "</table>\n",
       "</div>"
      ],
      "text/plain": [
       "            title                                        ingredients  \\\n",
       "0     151 Swizzle  [1.5 oz. 151-Proof Demerara Rum [Lemon Hart or...   \n",
       "1    20th Century  [The 21st Century, 2 oz. Siete Leguas Blanco T...   \n",
       "2    20th Century  [1.5 oz. Plymouth Gin, 3\\/4 oz. Mari Brizard W...   \n",
       "3  Abbey Cocktail                                                 []   \n",
       "4   Absinthe Drip  [1 1/2 ounces Pernod (or other absinthe substi...   \n",
       "\n",
       "                                          directions  \\\n",
       "0                                                 []   \n",
       "1  [shake on ice and strain into coupe , The Best...   \n",
       "2                          [shake on ice and strain]   \n",
       "3  [Shake liquid ingredients with ice., Strain in...   \n",
       "4  [Pour Pernod into a pousse-caf or sour glass....   \n",
       "\n",
       "                                                misc                  source  \\\n",
       "0                                                 []  Beachbum Berry Remixed   \n",
       "1                                                 []              Jim Meehan   \n",
       "2                                                 []                     PDT   \n",
       "3            [Suggested glassware is Cocktail Glass]   The Ultimate Bar Book   \n",
       "4  [The Absinthe Drip was made famous by Toulouse...   The Ultimate Bar Book   \n",
       "\n",
       "                                   ner  \n",
       "0                        [pernod, rum]  \n",
       "1  [cocchi americano, pernod, tequila]  \n",
       "2                        [lillet, gin]  \n",
       "3                                   []  \n",
       "4                   [pernod, absinthe]  "
      ]
     },
     "execution_count": 5,
     "metadata": {},
     "output_type": "execute_result"
    }
   ],
   "source": [
    "df.head(5)"
   ]
  },
  {
   "cell_type": "code",
   "execution_count": 6,
   "id": "70568a3e",
   "metadata": {},
   "outputs": [
    {
     "name": "stdout",
     "output_type": "stream",
     "text": [
      "<class 'pandas.core.frame.DataFrame'>\n",
      "RangeIndex: 875 entries, 0 to 874\n",
      "Data columns (total 6 columns):\n",
      " #   Column       Non-Null Count  Dtype \n",
      "---  ------       --------------  ----- \n",
      " 0   title        875 non-null    object\n",
      " 1   ingredients  875 non-null    object\n",
      " 2   directions   875 non-null    object\n",
      " 3   misc         875 non-null    object\n",
      " 4   source       875 non-null    object\n",
      " 5   ner          875 non-null    object\n",
      "dtypes: object(6)\n",
      "memory usage: 41.1+ KB\n"
     ]
    }
   ],
   "source": [
    "df.info()"
   ]
  },
  {
   "cell_type": "code",
   "execution_count": 7,
   "id": "3f572071",
   "metadata": {},
   "outputs": [
    {
     "data": {
      "text/plain": [
       "(875, 6)"
      ]
     },
     "execution_count": 7,
     "metadata": {},
     "output_type": "execute_result"
    }
   ],
   "source": [
    "df.shape"
   ]
  },
  {
   "cell_type": "markdown",
   "id": "5b3dab57",
   "metadata": {},
   "source": [
    "From this **Initial Data Inspection**, we see that the data is a 875 x 6 dataframe, entirely of objects. We also get to see that there are multiple instances of entries being `[]` constiting non-null entries."
   ]
  },
  {
   "cell_type": "markdown",
   "id": "b5896872",
   "metadata": {},
   "source": [
    "# Data Cleaning"
   ]
  },
  {
   "cell_type": "markdown",
   "id": "3719b717",
   "metadata": {},
   "source": [
    "Section involves removing empty rows, rows irrelevant to the analysis, or any rows unusable in the analysis."
   ]
  },
  {
   "cell_type": "code",
   "execution_count": 8,
   "id": "55f968f3",
   "metadata": {},
   "outputs": [],
   "source": [
    "# Removing rows where `ingredients` is empty\n",
    "non_empty_ingredients_df = df[df['ingredients'].apply(lambda x: len(x) > 0)]\n",
    "modified_df = non_empty_ingredients_df.reset_index(drop=True)"
   ]
  },
  {
   "cell_type": "code",
   "execution_count": 9,
   "id": "2607ae72",
   "metadata": {},
   "outputs": [
    {
     "data": {
      "text/plain": [
       "(873, 6)"
      ]
     },
     "execution_count": 9,
     "metadata": {},
     "output_type": "execute_result"
    }
   ],
   "source": [
    "modified_df.shape"
   ]
  },
  {
   "cell_type": "markdown",
   "id": "aad4e19e",
   "metadata": {},
   "source": [
    "From this, we can see that the dataframe went from 875 → 873 rows. So only two rows contained no information in the ingredients section. "
   ]
  },
  {
   "cell_type": "markdown",
   "id": "d0e2ccb4",
   "metadata": {},
   "source": [
    "# Deleting problematic rows"
   ]
  },
  {
   "cell_type": "code",
   "execution_count": 10,
   "id": "1250be3e",
   "metadata": {},
   "outputs": [],
   "source": [
    "# Drop row from the DataFrame, Reset the index\n",
    "modified_df = modified_df.drop(index=7).reset_index(drop=True)"
   ]
  },
  {
   "cell_type": "markdown",
   "id": "b5a80035",
   "metadata": {},
   "source": [
    "# Parsing 'Ingredients'"
   ]
  },
  {
   "cell_type": "markdown",
   "id": "458a7a04",
   "metadata": {},
   "source": [
    "This section will involve parsing the 'Ingredients' column in order to obtain data relevant to the project, and organize it such that it can be utilized.\n",
    "\n",
    "For example, the current 'ingredients' column contains data such as:"
   ]
  },
  {
   "cell_type": "code",
   "execution_count": 11,
   "id": "3a7c0147",
   "metadata": {},
   "outputs": [
    {
     "data": {
      "text/plain": [
       "['1.5 oz. 151-Proof Demerara Rum [Lemon Hart or El Dorado]',\n",
       " '0.5 oz. Lime Juice',\n",
       " '0.5 oz. Sugar Syrup',\n",
       " '1 Dash Angostura Bitters',\n",
       " '6 drops [1\\\\/8 Tsp.] Pernod',\n",
       " '8 oz. crushed ice',\n",
       " 'blend at high speed for 5 seconds, pour into metal cup or a pilsner glass',\n",
       " 'Garnish with dust of nutmeg and a cinnamon stick']"
      ]
     },
     "execution_count": 11,
     "metadata": {},
     "output_type": "execute_result"
    }
   ],
   "source": [
    "modified_df['ingredients'][0]"
   ]
  },
  {
   "cell_type": "markdown",
   "id": "67e9adaa",
   "metadata": {},
   "source": [
    "## Analysis\n",
    "\n",
    "- **Ingredient Entries**: Most strings follow a common format: `[quantity] [unit] [ingredient]`, which allows for standardized extraction. For example, `1.5 oz. 151-Proof Demerara Rum [Lemon Hart or El Dorado]` contains clear quantity, unit, and ingredient name components.\n",
    "\n",
    "- **Non-Ingredient Instructions**: Some strings contain instructions or garnishing details, such as `blend at high speed for 5 seconds, pour into metal cup or a pilsner glass`, which do not fit the standard ingredient format and are thus considered unusable for direct ingredient analysis.\n",
    "\n",
    "\n",
    "## Strategy\n",
    "To tackle this, we employ a parsing function that utilizes regular expressions to identify and extract the quantity, unit, and ingredient name from each string, while discarding any non-ingredient information. This function is designed to handle the common format efficiently and includes error handling for strings that do not conform to the expected pattern.\n",
    "\n",
    "By parsing the 'Ingredients' column in this manner, we aim to create a structured and usable dataset that will serve as a solid foundation for the subsequent stages of our project, including data analysis and the generation of new cocktail recipes."
   ]
  },
  {
   "cell_type": "code",
   "execution_count": 12,
   "id": "e9ea9be8",
   "metadata": {},
   "outputs": [],
   "source": [
    "def parse_ingredient(ingredient_str):\n",
    "    # Pre-process to correct known formatting issues with fractions\n",
    "    corrected_str = re.sub(r'\\\\', '', ingredient_str)  # Remove backslashes that might interfere with parsing\n",
    "    corrected_str = corrected_str.strip()\n",
    "    \n",
    "    \n",
    "    pattern = re.compile(\n",
    "        r'(?P<quantity>\\d+\\s*\\d*\\/\\d+|\\d*\\.\\d+|\\d+)?\\s*'  # Capture quantities, fractions, decimals\n",
    "        r'(?P<unit>oz|ounces?|tsp|teaspoons?|tablespoons?|tbl|tbs|cups?|pints?|quarts?|gallons?|lbs?|pounds?|ml|mL|liters?|dash|dashes|drops?|pinch|pinches|qt|qts)?\\.?\\s*'\n",
    "        r'(?P<ingredient>.+)', re.IGNORECASE)\n",
    "\n",
    "    match = pattern.match(corrected_str)\n",
    "    \n",
    "    if match:\n",
    "        # Normalize unit names\n",
    "        unit = match.group('unit')\n",
    "        if unit:\n",
    "            unit = unit.lower()\n",
    "            if unit in ['tsp', 'teaspoons']:\n",
    "                unit = 'tsp'\n",
    "            elif unit in ['tbl', 'tbs', 'tablespoons']:\n",
    "                unit = 'tbsp'\n",
    "            elif unit in ['pounds', 'pound', 'lbs']:\n",
    "                unit = 'lb'\n",
    "            elif unit in ['gallons', 'gallon']:\n",
    "                unit = 'gal'\n",
    "            elif unit in ['ounces', 'ounce', 'oz']:\n",
    "                unit = 'oz'\n",
    "            elif unit in ['milliliters', 'millilitre', 'ml', 'mL']:\n",
    "                unit = 'ml'\n",
    "            elif unit in ['liters', 'litre']:\n",
    "                unit = 'l'\n",
    "            elif unit in ['qt', 'qts']:  \n",
    "                unit = 'qt'\n",
    "        \n",
    "        return {'quantity': match.group('quantity'), 'unit': unit, 'ingredient': match.group('ingredient').strip()}\n",
    "    else:\n",
    "        # Handling cases that don't fit the expected pattern\n",
    "        return {'quantity': None, 'unit': None, 'ingredient': corrected_str}"
   ]
  },
  {
   "cell_type": "code",
   "execution_count": 13,
   "id": "1241ea86",
   "metadata": {},
   "outputs": [],
   "source": [
    "parsed_ingredients_list = []"
   ]
  },
  {
   "cell_type": "code",
   "execution_count": 14,
   "id": "632252fc",
   "metadata": {},
   "outputs": [],
   "source": [
    "for index, row in modified_df.iterrows():\n",
    "    for ingredient in row['ingredients']:\n",
    "        parsed_ingredient = parse_ingredient(ingredient)\n",
    "        parsed_ingredient['recipe_id'] = index  # Keep track of the recipe ID\n",
    "        parsed_ingredients_list.append(parsed_ingredient)\n",
    "\n",
    "parsed_df = pd.DataFrame(parsed_ingredients_list)"
   ]
  },
  {
   "cell_type": "markdown",
   "id": "4d723abf",
   "metadata": {},
   "source": [
    "We have created `parsed_df` which contains the parsed versions of the `ingredients` column of the original dataset."
   ]
  },
  {
   "cell_type": "code",
   "execution_count": 15,
   "id": "2e945828",
   "metadata": {},
   "outputs": [
    {
     "data": {
      "text/plain": [
       "(3713, 4)"
      ]
     },
     "execution_count": 15,
     "metadata": {},
     "output_type": "execute_result"
    }
   ],
   "source": [
    "parsed_df.shape"
   ]
  },
  {
   "cell_type": "markdown",
   "id": "df490dac",
   "metadata": {},
   "source": [
    "# Below this is troubleshooting to update the parsing\n",
    "**Edge case detection**\n",
    "\n",
    "Used to look into the `parsed_df` in order to find edge cases not yet listed into the regex, or potential manual cases required."
   ]
  },
  {
   "cell_type": "markdown",
   "id": "0d460aa8",
   "metadata": {},
   "source": [
    "**Quick overview for identifying remaining cases.**"
   ]
  },
  {
   "cell_type": "code",
   "execution_count": 16,
   "id": "3ad46c80",
   "metadata": {},
   "outputs": [
    {
     "data": {
      "text/html": [
       "<div>\n",
       "<style scoped>\n",
       "    .dataframe tbody tr th:only-of-type {\n",
       "        vertical-align: middle;\n",
       "    }\n",
       "\n",
       "    .dataframe tbody tr th {\n",
       "        vertical-align: top;\n",
       "    }\n",
       "\n",
       "    .dataframe thead th {\n",
       "        text-align: right;\n",
       "    }\n",
       "</style>\n",
       "<table border=\"1\" class=\"dataframe\">\n",
       "  <thead>\n",
       "    <tr style=\"text-align: right;\">\n",
       "      <th></th>\n",
       "      <th>quantity</th>\n",
       "      <th>unit</th>\n",
       "      <th>ingredient</th>\n",
       "      <th>recipe_id</th>\n",
       "    </tr>\n",
       "  </thead>\n",
       "  <tbody>\n",
       "    <tr>\n",
       "      <th>0</th>\n",
       "      <td>1.5</td>\n",
       "      <td>oz</td>\n",
       "      <td>151-Proof Demerara Rum [Lemon Hart or El Dorado]</td>\n",
       "      <td>0</td>\n",
       "    </tr>\n",
       "    <tr>\n",
       "      <th>1</th>\n",
       "      <td>0.5</td>\n",
       "      <td>oz</td>\n",
       "      <td>Lime Juice</td>\n",
       "      <td>0</td>\n",
       "    </tr>\n",
       "    <tr>\n",
       "      <th>2</th>\n",
       "      <td>0.5</td>\n",
       "      <td>oz</td>\n",
       "      <td>Sugar Syrup</td>\n",
       "      <td>0</td>\n",
       "    </tr>\n",
       "    <tr>\n",
       "      <th>3</th>\n",
       "      <td>1</td>\n",
       "      <td>dash</td>\n",
       "      <td>Angostura Bitters</td>\n",
       "      <td>0</td>\n",
       "    </tr>\n",
       "    <tr>\n",
       "      <th>4</th>\n",
       "      <td>6</td>\n",
       "      <td>drops</td>\n",
       "      <td>[1/8 Tsp.] Pernod</td>\n",
       "      <td>0</td>\n",
       "    </tr>\n",
       "    <tr>\n",
       "      <th>5</th>\n",
       "      <td>8</td>\n",
       "      <td>oz</td>\n",
       "      <td>crushed ice</td>\n",
       "      <td>0</td>\n",
       "    </tr>\n",
       "    <tr>\n",
       "      <th>6</th>\n",
       "      <td>None</td>\n",
       "      <td>None</td>\n",
       "      <td>blend at high speed for 5 seconds, pour into m...</td>\n",
       "      <td>0</td>\n",
       "    </tr>\n",
       "    <tr>\n",
       "      <th>7</th>\n",
       "      <td>None</td>\n",
       "      <td>None</td>\n",
       "      <td>Garnish with dust of nutmeg and a cinnamon stick</td>\n",
       "      <td>0</td>\n",
       "    </tr>\n",
       "    <tr>\n",
       "      <th>8</th>\n",
       "      <td>None</td>\n",
       "      <td>None</td>\n",
       "      <td>The 21st Century</td>\n",
       "      <td>1</td>\n",
       "    </tr>\n",
       "    <tr>\n",
       "      <th>9</th>\n",
       "      <td>2</td>\n",
       "      <td>oz</td>\n",
       "      <td>Siete Leguas Blanco Tequila</td>\n",
       "      <td>1</td>\n",
       "    </tr>\n",
       "    <tr>\n",
       "      <th>10</th>\n",
       "      <td>3/4</td>\n",
       "      <td>oz</td>\n",
       "      <td>Marie Brizard Crme de Cacao</td>\n",
       "      <td>1</td>\n",
       "    </tr>\n",
       "    <tr>\n",
       "      <th>11</th>\n",
       "      <td>3/4</td>\n",
       "      <td>oz</td>\n",
       "      <td>Lemon Juice</td>\n",
       "      <td>1</td>\n",
       "    </tr>\n",
       "    <tr>\n",
       "      <th>12</th>\n",
       "      <td>None</td>\n",
       "      <td>None</td>\n",
       "      <td>rinse coupe glass with Pernod</td>\n",
       "      <td>1</td>\n",
       "    </tr>\n",
       "    <tr>\n",
       "      <th>13</th>\n",
       "      <td>1.5</td>\n",
       "      <td>oz</td>\n",
       "      <td>Plymouth Gin</td>\n",
       "      <td>2</td>\n",
       "    </tr>\n",
       "    <tr>\n",
       "      <th>14</th>\n",
       "      <td>3/4</td>\n",
       "      <td>oz</td>\n",
       "      <td>Mari Brizard White Crme de Cacao</td>\n",
       "      <td>2</td>\n",
       "    </tr>\n",
       "    <tr>\n",
       "      <th>15</th>\n",
       "      <td>3/4</td>\n",
       "      <td>oz</td>\n",
       "      <td>Lillet Blanc</td>\n",
       "      <td>2</td>\n",
       "    </tr>\n",
       "    <tr>\n",
       "      <th>16</th>\n",
       "      <td>3/4</td>\n",
       "      <td>oz</td>\n",
       "      <td>Lemon Juice</td>\n",
       "      <td>2</td>\n",
       "    </tr>\n",
       "    <tr>\n",
       "      <th>17</th>\n",
       "      <td>1 1/2</td>\n",
       "      <td>oz</td>\n",
       "      <td>Pernod (or other absinthe substitute)</td>\n",
       "      <td>3</td>\n",
       "    </tr>\n",
       "    <tr>\n",
       "      <th>18</th>\n",
       "      <td>1</td>\n",
       "      <td>None</td>\n",
       "      <td>sugar cube</td>\n",
       "      <td>3</td>\n",
       "    </tr>\n",
       "    <tr>\n",
       "      <th>19</th>\n",
       "      <td>5</td>\n",
       "      <td>oz</td>\n",
       "      <td>cold filtered water</td>\n",
       "      <td>3</td>\n",
       "    </tr>\n",
       "    <tr>\n",
       "      <th>20</th>\n",
       "      <td>1</td>\n",
       "      <td>None</td>\n",
       "      <td>perforated spoon</td>\n",
       "      <td>3</td>\n",
       "    </tr>\n",
       "    <tr>\n",
       "      <th>21</th>\n",
       "      <td>1</td>\n",
       "      <td>oz</td>\n",
       "      <td>gold tequila</td>\n",
       "      <td>4</td>\n",
       "    </tr>\n",
       "    <tr>\n",
       "      <th>22</th>\n",
       "      <td>1</td>\n",
       "      <td>oz</td>\n",
       "      <td>gold rum</td>\n",
       "      <td>4</td>\n",
       "    </tr>\n",
       "    <tr>\n",
       "      <th>23</th>\n",
       "      <td>2</td>\n",
       "      <td>oz</td>\n",
       "      <td>fresh grapefruit juice</td>\n",
       "      <td>4</td>\n",
       "    </tr>\n",
       "    <tr>\n",
       "      <th>24</th>\n",
       "      <td>3</td>\n",
       "      <td>oz</td>\n",
       "      <td>pineapple juice</td>\n",
       "      <td>4</td>\n",
       "    </tr>\n",
       "    <tr>\n",
       "      <th>25</th>\n",
       "      <td>1.25</td>\n",
       "      <td>oz</td>\n",
       "      <td>Brandy</td>\n",
       "      <td>5</td>\n",
       "    </tr>\n",
       "    <tr>\n",
       "      <th>26</th>\n",
       "      <td>0.5</td>\n",
       "      <td>oz</td>\n",
       "      <td>Amontillado Sherry</td>\n",
       "      <td>5</td>\n",
       "    </tr>\n",
       "    <tr>\n",
       "      <th>27</th>\n",
       "      <td>0.5</td>\n",
       "      <td>oz</td>\n",
       "      <td>Lemon Juice</td>\n",
       "      <td>5</td>\n",
       "    </tr>\n",
       "    <tr>\n",
       "      <th>28</th>\n",
       "      <td>1</td>\n",
       "      <td>None</td>\n",
       "      <td>Barspoon Lime Juice</td>\n",
       "      <td>5</td>\n",
       "    </tr>\n",
       "    <tr>\n",
       "      <th>29</th>\n",
       "      <td>0.5</td>\n",
       "      <td>oz</td>\n",
       "      <td>Demerara Syrup (2:1)</td>\n",
       "      <td>5</td>\n",
       "    </tr>\n",
       "    <tr>\n",
       "      <th>30</th>\n",
       "      <td>1</td>\n",
       "      <td>oz</td>\n",
       "      <td>Water</td>\n",
       "      <td>5</td>\n",
       "    </tr>\n",
       "    <tr>\n",
       "      <th>31</th>\n",
       "      <td>None</td>\n",
       "      <td>None</td>\n",
       "      <td>mix all ingredients and add ice</td>\n",
       "      <td>5</td>\n",
       "    </tr>\n",
       "    <tr>\n",
       "      <th>32</th>\n",
       "      <td>None</td>\n",
       "      <td>None</td>\n",
       "      <td>Lemon slice and fresh grated nutmeg</td>\n",
       "      <td>5</td>\n",
       "    </tr>\n",
       "    <tr>\n",
       "      <th>33</th>\n",
       "      <td>2.5</td>\n",
       "      <td>cups</td>\n",
       "      <td>Sugar</td>\n",
       "      <td>6</td>\n",
       "    </tr>\n",
       "    <tr>\n",
       "      <th>34</th>\n",
       "      <td>1</td>\n",
       "      <td>cup</td>\n",
       "      <td>Water</td>\n",
       "      <td>6</td>\n",
       "    </tr>\n",
       "    <tr>\n",
       "      <th>35</th>\n",
       "      <td>18</td>\n",
       "      <td>oz</td>\n",
       "      <td>Lemon Juice</td>\n",
       "      <td>6</td>\n",
       "    </tr>\n",
       "    <tr>\n",
       "      <th>36</th>\n",
       "      <td>4</td>\n",
       "      <td>oz</td>\n",
       "      <td>Lime Juice</td>\n",
       "      <td>6</td>\n",
       "    </tr>\n",
       "    <tr>\n",
       "      <th>37</th>\n",
       "      <td>1</td>\n",
       "      <td>None</td>\n",
       "      <td>,500 mL Brandy</td>\n",
       "      <td>6</td>\n",
       "    </tr>\n",
       "    <tr>\n",
       "      <th>38</th>\n",
       "      <td>18</td>\n",
       "      <td>oz</td>\n",
       "      <td>Montilla Sherry</td>\n",
       "      <td>6</td>\n",
       "    </tr>\n",
       "    <tr>\n",
       "      <th>39</th>\n",
       "      <td>1.5</td>\n",
       "      <td>qt</td>\n",
       "      <td>Water</td>\n",
       "      <td>6</td>\n",
       "    </tr>\n",
       "    <tr>\n",
       "      <th>40</th>\n",
       "      <td>None</td>\n",
       "      <td>None</td>\n",
       "      <td>dissolve Sugar in Water</td>\n",
       "      <td>6</td>\n",
       "    </tr>\n",
       "    <tr>\n",
       "      <th>41</th>\n",
       "      <td>None</td>\n",
       "      <td>None</td>\n",
       "      <td>(a classic variation on the Perfect Rob Roy), ...</td>\n",
       "      <td>7</td>\n",
       "    </tr>\n",
       "    <tr>\n",
       "      <th>42</th>\n",
       "      <td>None</td>\n",
       "      <td>None</td>\n",
       "      <td>For another version of an Affinity, use equal ...</td>\n",
       "      <td>7</td>\n",
       "    </tr>\n",
       "    <tr>\n",
       "      <th>43</th>\n",
       "      <td>1.5</td>\n",
       "      <td>oz</td>\n",
       "      <td>Bulleit Rye Whisky</td>\n",
       "      <td>8</td>\n",
       "    </tr>\n",
       "    <tr>\n",
       "      <th>44</th>\n",
       "      <td>0.5</td>\n",
       "      <td>oz</td>\n",
       "      <td>Bowmore Islay Scotch Whisky</td>\n",
       "      <td>8</td>\n",
       "    </tr>\n",
       "    <tr>\n",
       "      <th>45</th>\n",
       "      <td>0.25</td>\n",
       "      <td>oz</td>\n",
       "      <td>Spiced Rich Syrup</td>\n",
       "      <td>8</td>\n",
       "    </tr>\n",
       "    <tr>\n",
       "      <th>46</th>\n",
       "      <td>None</td>\n",
       "      <td>None</td>\n",
       "      <td></td>\n",
       "      <td>9</td>\n",
       "    </tr>\n",
       "    <tr>\n",
       "      <th>47</th>\n",
       "      <td>None</td>\n",
       "      <td>None</td>\n",
       "      <td>a Sidecar with lime juice instead of lemon juice.</td>\n",
       "      <td>10</td>\n",
       "    </tr>\n",
       "    <tr>\n",
       "      <th>48</th>\n",
       "      <td>None</td>\n",
       "      <td>None</td>\n",
       "      <td></td>\n",
       "      <td>10</td>\n",
       "    </tr>\n",
       "    <tr>\n",
       "      <th>49</th>\n",
       "      <td>1</td>\n",
       "      <td>oz</td>\n",
       "      <td>Southern Comfort</td>\n",
       "      <td>11</td>\n",
       "    </tr>\n",
       "  </tbody>\n",
       "</table>\n",
       "</div>"
      ],
      "text/plain": [
       "   quantity   unit                                         ingredient  \\\n",
       "0       1.5     oz   151-Proof Demerara Rum [Lemon Hart or El Dorado]   \n",
       "1       0.5     oz                                         Lime Juice   \n",
       "2       0.5     oz                                        Sugar Syrup   \n",
       "3         1   dash                                  Angostura Bitters   \n",
       "4         6  drops                                  [1/8 Tsp.] Pernod   \n",
       "5         8     oz                                        crushed ice   \n",
       "6      None   None  blend at high speed for 5 seconds, pour into m...   \n",
       "7      None   None   Garnish with dust of nutmeg and a cinnamon stick   \n",
       "8      None   None                                   The 21st Century   \n",
       "9         2     oz                        Siete Leguas Blanco Tequila   \n",
       "10      3/4     oz                        Marie Brizard Crme de Cacao   \n",
       "11      3/4     oz                                        Lemon Juice   \n",
       "12     None   None                      rinse coupe glass with Pernod   \n",
       "13      1.5     oz                                       Plymouth Gin   \n",
       "14      3/4     oz                   Mari Brizard White Crme de Cacao   \n",
       "15      3/4     oz                                       Lillet Blanc   \n",
       "16      3/4     oz                                        Lemon Juice   \n",
       "17    1 1/2     oz              Pernod (or other absinthe substitute)   \n",
       "18        1   None                                         sugar cube   \n",
       "19        5     oz                                cold filtered water   \n",
       "20        1   None                                   perforated spoon   \n",
       "21        1     oz                                       gold tequila   \n",
       "22        1     oz                                           gold rum   \n",
       "23        2     oz                             fresh grapefruit juice   \n",
       "24        3     oz                                    pineapple juice   \n",
       "25     1.25     oz                                             Brandy   \n",
       "26      0.5     oz                                 Amontillado Sherry   \n",
       "27      0.5     oz                                        Lemon Juice   \n",
       "28        1   None                                Barspoon Lime Juice   \n",
       "29      0.5     oz                               Demerara Syrup (2:1)   \n",
       "30        1     oz                                              Water   \n",
       "31     None   None                    mix all ingredients and add ice   \n",
       "32     None   None                Lemon slice and fresh grated nutmeg   \n",
       "33      2.5   cups                                              Sugar   \n",
       "34        1    cup                                              Water   \n",
       "35       18     oz                                        Lemon Juice   \n",
       "36        4     oz                                         Lime Juice   \n",
       "37        1   None                                     ,500 mL Brandy   \n",
       "38       18     oz                                    Montilla Sherry   \n",
       "39      1.5     qt                                              Water   \n",
       "40     None   None                            dissolve Sugar in Water   \n",
       "41     None   None  (a classic variation on the Perfect Rob Roy), ...   \n",
       "42     None   None  For another version of an Affinity, use equal ...   \n",
       "43      1.5     oz                                 Bulleit Rye Whisky   \n",
       "44      0.5     oz                        Bowmore Islay Scotch Whisky   \n",
       "45     0.25     oz                                  Spiced Rich Syrup   \n",
       "46     None   None                                                      \n",
       "47     None   None  a Sidecar with lime juice instead of lemon juice.   \n",
       "48     None   None                                                      \n",
       "49        1     oz                                   Southern Comfort   \n",
       "\n",
       "    recipe_id  \n",
       "0           0  \n",
       "1           0  \n",
       "2           0  \n",
       "3           0  \n",
       "4           0  \n",
       "5           0  \n",
       "6           0  \n",
       "7           0  \n",
       "8           1  \n",
       "9           1  \n",
       "10          1  \n",
       "11          1  \n",
       "12          1  \n",
       "13          2  \n",
       "14          2  \n",
       "15          2  \n",
       "16          2  \n",
       "17          3  \n",
       "18          3  \n",
       "19          3  \n",
       "20          3  \n",
       "21          4  \n",
       "22          4  \n",
       "23          4  \n",
       "24          4  \n",
       "25          5  \n",
       "26          5  \n",
       "27          5  \n",
       "28          5  \n",
       "29          5  \n",
       "30          5  \n",
       "31          5  \n",
       "32          5  \n",
       "33          6  \n",
       "34          6  \n",
       "35          6  \n",
       "36          6  \n",
       "37          6  \n",
       "38          6  \n",
       "39          6  \n",
       "40          6  \n",
       "41          7  \n",
       "42          7  \n",
       "43          8  \n",
       "44          8  \n",
       "45          8  \n",
       "46          9  \n",
       "47         10  \n",
       "48         10  \n",
       "49         11  "
      ]
     },
     "execution_count": 16,
     "metadata": {},
     "output_type": "execute_result"
    }
   ],
   "source": [
    "parsed_df.head(50)"
   ]
  },
  {
   "cell_type": "markdown",
   "id": "10127cd1",
   "metadata": {},
   "source": [
    "**Used for analyzing edge cases:**"
   ]
  },
  {
   "cell_type": "code",
   "execution_count": 17,
   "id": "eb235f16",
   "metadata": {},
   "outputs": [],
   "source": [
    "def inspect_row(modified_df, parsed_df, row_index):\n",
    "    \"\"\"\n",
    "    Prints the title, ingredients, and directions of a given row in the modified DataFrame,\n",
    "    and then prints all corresponding parsed ingredient rows from the parsed DataFrame.\n",
    "    \n",
    "    Parameters:\n",
    "    - modified_df: pandas DataFrame containing the original cocktail data.\n",
    "    - parsed_df: pandas DataFrame containing the parsed ingredients data.\n",
    "    - row_index: Integer index of the row to inspect in modified_df and to match in parsed_df.\n",
    "    \"\"\"\n",
    "    # Print details from the modified DataFrame\n",
    "    print(f\"Title: {modified_df.loc[row_index, 'title']}\\n\")\n",
    "    print(\"Ingredients:\")\n",
    "    for ingredient in modified_df.loc[row_index, 'ingredients']:\n",
    "        print(f\"- {ingredient}\")\n",
    "    print(\"\\nDirections:\")\n",
    "    for direction in modified_df.loc[row_index, 'directions']:\n",
    "        print(f\"- {direction}\")\n",
    "    \n",
    "    # Print corresponding rows from the parsed DataFrame\n",
    "    print(\"\\nParsed Ingredients:\")\n",
    "    parsed_rows = parsed_df[parsed_df['recipe_id'] == row_index]\n",
    "    if not parsed_rows.empty:\n",
    "        print(parsed_rows.to_string(index=False))\n",
    "    else:\n",
    "        print(\"No parsed ingredients found for this recipe.\")"
   ]
  },
  {
   "cell_type": "code",
   "execution_count": 37,
   "id": "40bac144",
   "metadata": {},
   "outputs": [
    {
     "name": "stdout",
     "output_type": "stream",
     "text": [
      "Title: Affinity\n",
      "\n",
      "Ingredients:\n",
      "- (a classic variation on the Perfect Rob Roy), use equal parts (1 ounce each) scotch, dry vermouth, and sweet vermouth.\n",
      "- For another version of an Affinity, use equal parts (1 ounce each) scotch, dry sherry, and ruby port. Garnish with a cherry.\n",
      "\n",
      "Directions:\n",
      "\n",
      "Parsed Ingredients:\n",
      "quantity unit                                                                                                                   ingredient  recipe_id\n",
      "    None None       (a classic variation on the Perfect Rob Roy), use equal parts (1 ounce each) scotch, dry vermouth, and sweet vermouth.          7\n",
      "    None None For another version of an Affinity, use equal parts (1 ounce each) scotch, dry sherry, and ruby port. Garnish with a cherry.          7\n"
     ]
    }
   ],
   "source": [
    "# Example usage:\n",
    "questionable_row = 7\n",
    "inspect_row(modified_df, parsed_df, questionable_row)"
   ]
  },
  {
   "cell_type": "markdown",
   "id": "93fa147c",
   "metadata": {},
   "source": [
    "**Looking into rows which arent formatted for use**"
   ]
  },
  {
   "cell_type": "markdown",
   "id": "bcde719a",
   "metadata": {},
   "source": [
    "Looking into remaining edge cases, if something appears in the following, that means the quantity or unit is not successfully integrated by the parsing above."
   ]
  },
  {
   "cell_type": "code",
   "execution_count": 31,
   "id": "b7f02e71",
   "metadata": {
    "scrolled": false
   },
   "outputs": [
    {
     "name": "stdout",
     "output_type": "stream",
     "text": [
      "     quantity  unit                                         ingredient  \\\n",
      "0        None  None  blend at high speed for 5 seconds, pour into m...   \n",
      "1        None  None   Garnish with dust of nutmeg and a cinnamon stick   \n",
      "2        None  None                                   The 21st Century   \n",
      "3        None  None                      rinse coupe glass with Pernod   \n",
      "4           1  None                                         sugar cube   \n",
      "...       ...   ...                                                ...   \n",
      "1559      1.5  None                                      cl Lime juice   \n",
      "1560     None  None                           shake on ice and strain\"   \n",
      "1561     None  None                                          champagne   \n",
      "1562     None  None                                   orange juice-ish   \n",
      "1563     None  None                  optional but preferable 1 oz. gin   \n",
      "\n",
      "      recipe_id  \n",
      "0             0  \n",
      "1             0  \n",
      "2             1  \n",
      "3             1  \n",
      "4             3  \n",
      "...         ...  \n",
      "1559        867  \n",
      "1560        870  \n",
      "1561        871  \n",
      "1562        871  \n",
      "1563        871  \n",
      "\n",
      "[1564 rows x 4 columns]\n"
     ]
    }
   ],
   "source": [
    "# Filter rows and reset index \n",
    "none_rows = parsed_df.loc[parsed_df['quantity'].isnull() | parsed_df['unit'].isnull()].reset_index(drop=True)\n",
    "\n",
    "# Display the filtered dataframe\n",
    "print(none_rows)"
   ]
  },
  {
   "cell_type": "markdown",
   "id": "6924897d",
   "metadata": {},
   "source": [
    "**Tracking to make sure rows is decreasing post-changes**\n",
    "\n",
    "1564"
   ]
  },
  {
   "cell_type": "markdown",
   "id": "fabb7077",
   "metadata": {},
   "source": [
    "**Use to look into row in none_df**\n",
    "\n",
    "    Can help find recipie_id in parsed_df, as well as identify problematic sections with the row"
   ]
  },
  {
   "cell_type": "code",
   "execution_count": 32,
   "id": "d021eaee",
   "metadata": {
    "scrolled": true
   },
   "outputs": [
    {
     "data": {
      "text/plain": [
       "quantity                1.5\n",
       "unit                   None\n",
       "ingredient    cl Lime juice\n",
       "recipe_id               867\n",
       "Name: 1559, dtype: object"
      ]
     },
     "execution_count": 32,
     "metadata": {},
     "output_type": "execute_result"
    }
   ],
   "source": [
    "none_rows.iloc[1559]"
   ]
  },
  {
   "cell_type": "markdown",
   "id": "bd13728b",
   "metadata": {},
   "source": [
    "**Visual of parsed_df's units**\n",
    "Notable insights: \n",
    "\n",
    "    -mainly oz (sources are likely American)\n",
    "    -Can help view None columns as a chunk\n",
    "    -gives an insight into the more unique measurements such as `dash`, `tsp`, etc."
   ]
  },
  {
   "cell_type": "code",
   "execution_count": 20,
   "id": "abef28a0",
   "metadata": {},
   "outputs": [
    {
     "data": {
      "image/png": "[encoded data removed]",
      "text/plain": [
       "<Figure size 1200x800 with 1 Axes>"
      ]
     },
     "metadata": {},
     "output_type": "display_data"
    }
   ],
   "source": [
    "# Count the frequency of each unit, including None (NaN) values\n",
    "unit_counts = parsed_df['unit'].value_counts(dropna=False)\n",
    "\n",
    "# replace NaN (None) with a string for visualization purposes:\n",
    "unit_counts.index = unit_counts.index.fillna('None')\n",
    "\n",
    "# Create a bar chart\n",
    "plt.figure(figsize=(12, 8))  \n",
    "sns.barplot(x=unit_counts.values, y=unit_counts.index, palette=\"viridis\", orient='h')  # Use horizontal bars\n",
    "\n",
    "plt.title('Frequency of Units in Parsed Ingredients')\n",
    "plt.ylabel('Unit')  # For horizontal bars, the y-axis now represents units\n",
    "plt.xlabel('Frequency')\n",
    "plt.xticks(rotation=45) \n",
    "\n",
    "plt.show()"
   ]
  },
  {
   "cell_type": "code",
   "execution_count": 23,
   "id": "497e09da",
   "metadata": {},
   "outputs": [
    {
     "data": {
      "image/png": "[encoded data removed]",
      "text/plain": [
       "<Figure size 1200x800 with 1 Axes>"
      ]
     },
     "metadata": {},
     "output_type": "display_data"
    }
   ],
   "source": [
    "# Sort the dataframe by ingredient frequency (descending)\n",
    "top_20_ingredients = parsed_df.groupby('ingredient')['ingredient'].count().sort_values(ascending=False).head(20)\n",
    "\n",
    "# Create the bar chart\n",
    "plt.figure(figsize=(12, 8))\n",
    "sns.barplot(x=top_20_ingredients.values, y=top_20_ingredients.index, palette=\"viridis\", orient='h')\n",
    "\n",
    "plt.title('Top 20 Most Frequent Ingredients')\n",
    "plt.ylabel('Ingredient')  # Label for horizontal bars\n",
    "plt.xlabel('Frequency')\n",
    "plt.xticks(rotation=45)\n",
    "\n",
    "plt.show()"
   ]
  },
  {
   "cell_type": "code",
   "execution_count": null,
   "id": "b7c78969",
   "metadata": {},
   "outputs": [],
   "source": []
  }
 ],
 "metadata": {
  "kernelspec": {
   "display_name": "Python 3 (ipykernel)",
   "language": "python",
   "name": "python3"
  },
  "language_info": {
   "codemirror_mode": {
    "name": "ipython",
    "version": 3
   },
   "file_extension": ".py",
   "mimetype": "text/x-python",
   "name": "python",
   "nbconvert_exporter": "python",
   "pygments_lexer": "ipython3",
   "version": "3.10.9"
  },
  "toc": {
   "base_numbering": 1,
   "nav_menu": {},
   "number_sections": true,
   "sideBar": true,
   "skip_h1_title": false,
   "title_cell": "Table of Contents",
   "title_sidebar": "Contents",
   "toc_cell": false,
   "toc_position": {},
   "toc_section_display": true,
   "toc_window_display": false
  }
 },
 "nbformat": 4,
 "nbformat_minor": 5
}
