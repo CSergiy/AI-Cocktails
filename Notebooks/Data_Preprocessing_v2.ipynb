{
 "cells": [
  {
   "cell_type": "markdown",
   "id": "b746915a-20fb-462b-8b69-a6776d073fd0",
   "metadata": {},
   "source": [
    "# Intro"
   ]
  },
  {
   "cell_type": "markdown",
   "id": "b70e43ab-ac50-4314-83f6-7cfe5f2d3ea8",
   "metadata": {},
   "source": [
    "The initial dataset being sourced is from the HuggingFace library, (https://huggingface.co/datasets/brianarbuckle/cocktail_recipes)\n",
    "\n",
    "This initial dataset contains columns `title`, `ingredients`, `directions`, `misc`, `source`, and `ner`."
   ]
  },
  {
   "cell_type": "markdown",
   "id": "ddc21d0f-7e21-43cc-b434-18f86298369a",
   "metadata": {},
   "source": [
    "**Overview**\n",
    "The 'Ingredients' column of our dataset presents a unique challenge. It consists of objects, each being a list of strings, where each string details a part of a cocktail recipe. These details typically include the quantity, unit, and name of an ingredient, but they can also contain preparation instructions or garnishing details that are not directly usable in their current form for data analysis or recipe generation.\n",
    "\n",
    "**Objective**\n",
    "Our goal is to parse these strings to extract structured information that can be effectively utilized in our project. Specifically, we aim to separate the ingredient details into distinct components: quantity, unit, and ingredient name, while filtering out the non-ingredient related information."
   ]
  },
  {
   "cell_type": "markdown",
   "id": "5ad0f2ff-6239-470c-afbc-c347e7b1cdce",
   "metadata": {},
   "source": [
    "## Imports"
   ]
  },
  {
   "cell_type": "code",
   "execution_count": 1,
   "id": "503c1281-62f4-42ab-928f-e065a23e23c8",
   "metadata": {},
   "outputs": [],
   "source": [
    "import pandas as pd\n",
    "import re\n",
    "from datasets import load_dataset\n",
    "import matplotlib.pyplot as plt\n",
    "import seaborn as sns"
   ]
  },
  {
   "cell_type": "markdown",
   "id": "18316bd1-a7f5-4591-8078-cfad00a565d9",
   "metadata": {},
   "source": [
    "## Initial Data Inspection"
   ]
  },
  {
   "cell_type": "code",
   "execution_count": 2,
   "id": "0fccd88d-e54c-4df5-b6d6-3f4a7ffe9dfe",
   "metadata": {},
   "outputs": [],
   "source": [
    "# Loading the cocktail_recipes dataset\n",
    "dataset = load_dataset('brianarbuckle/cocktail_recipes')\n",
    "\n",
    "df = pd.DataFrame(dataset['train'])"
   ]
  },
  {
   "cell_type": "code",
   "execution_count": 3,
   "id": "adbbd5cb-2a48-45cf-9b9a-c9882dc438b3",
   "metadata": {},
   "outputs": [
    {
     "data": {
      "text/html": [
       "<div>\n",
       "<style scoped>\n",
       "    .dataframe tbody tr th:only-of-type {\n",
       "        vertical-align: middle;\n",
       "    }\n",
       "\n",
       "    .dataframe tbody tr th {\n",
       "        vertical-align: top;\n",
       "    }\n",
       "\n",
       "    .dataframe thead th {\n",
       "        text-align: right;\n",
       "    }\n",
       "</style>\n",
       "<table border=\"1\" class=\"dataframe\">\n",
       "  <thead>\n",
       "    <tr style=\"text-align: right;\">\n",
       "      <th></th>\n",
       "      <th>title</th>\n",
       "      <th>ingredients</th>\n",
       "      <th>directions</th>\n",
       "      <th>misc</th>\n",
       "      <th>source</th>\n",
       "      <th>ner</th>\n",
       "    </tr>\n",
       "  </thead>\n",
       "  <tbody>\n",
       "    <tr>\n",
       "      <th>0</th>\n",
       "      <td>151 Swizzle</td>\n",
       "      <td>[1.5 oz. 151-Proof Demerara Rum [Lemon Hart or...</td>\n",
       "      <td>[]</td>\n",
       "      <td>[]</td>\n",
       "      <td>Beachbum Berry Remixed</td>\n",
       "      <td>[pernod, rum]</td>\n",
       "    </tr>\n",
       "    <tr>\n",
       "      <th>1</th>\n",
       "      <td>20th Century</td>\n",
       "      <td>[The 21st Century, 2 oz. Siete Leguas Blanco T...</td>\n",
       "      <td>[shake on ice and strain into coupe , The Best...</td>\n",
       "      <td>[]</td>\n",
       "      <td>Jim Meehan</td>\n",
       "      <td>[cocchi americano, pernod, tequila]</td>\n",
       "    </tr>\n",
       "    <tr>\n",
       "      <th>2</th>\n",
       "      <td>20th Century</td>\n",
       "      <td>[1.5 oz. Plymouth Gin, 3\\/4 oz. Mari Brizard W...</td>\n",
       "      <td>[shake on ice and strain]</td>\n",
       "      <td>[]</td>\n",
       "      <td>PDT</td>\n",
       "      <td>[lillet, gin]</td>\n",
       "    </tr>\n",
       "    <tr>\n",
       "      <th>3</th>\n",
       "      <td>Abbey Cocktail</td>\n",
       "      <td>[]</td>\n",
       "      <td>[Shake liquid ingredients with ice., Strain in...</td>\n",
       "      <td>[Suggested glassware is Cocktail Glass]</td>\n",
       "      <td>The Ultimate Bar Book</td>\n",
       "      <td>[]</td>\n",
       "    </tr>\n",
       "    <tr>\n",
       "      <th>4</th>\n",
       "      <td>Absinthe Drip</td>\n",
       "      <td>[1 1/2 ounces Pernod (or other absinthe substi...</td>\n",
       "      <td>[Pour Pernod into a pousse-caf or sour glass....</td>\n",
       "      <td>[The Absinthe Drip was made famous by Toulouse...</td>\n",
       "      <td>The Ultimate Bar Book</td>\n",
       "      <td>[pernod, absinthe]</td>\n",
       "    </tr>\n",
       "  </tbody>\n",
       "</table>\n",
       "</div>"
      ],
      "text/plain": [
       "            title                                        ingredients  \\\n",
       "0     151 Swizzle  [1.5 oz. 151-Proof Demerara Rum [Lemon Hart or...   \n",
       "1    20th Century  [The 21st Century, 2 oz. Siete Leguas Blanco T...   \n",
       "2    20th Century  [1.5 oz. Plymouth Gin, 3\\/4 oz. Mari Brizard W...   \n",
       "3  Abbey Cocktail                                                 []   \n",
       "4   Absinthe Drip  [1 1/2 ounces Pernod (or other absinthe substi...   \n",
       "\n",
       "                                          directions  \\\n",
       "0                                                 []   \n",
       "1  [shake on ice and strain into coupe , The Best...   \n",
       "2                          [shake on ice and strain]   \n",
       "3  [Shake liquid ingredients with ice., Strain in...   \n",
       "4  [Pour Pernod into a pousse-caf or sour glass....   \n",
       "\n",
       "                                                misc                  source  \\\n",
       "0                                                 []  Beachbum Berry Remixed   \n",
       "1                                                 []              Jim Meehan   \n",
       "2                                                 []                     PDT   \n",
       "3            [Suggested glassware is Cocktail Glass]   The Ultimate Bar Book   \n",
       "4  [The Absinthe Drip was made famous by Toulouse...   The Ultimate Bar Book   \n",
       "\n",
       "                                   ner  \n",
       "0                        [pernod, rum]  \n",
       "1  [cocchi americano, pernod, tequila]  \n",
       "2                        [lillet, gin]  \n",
       "3                                   []  \n",
       "4                   [pernod, absinthe]  "
      ]
     },
     "execution_count": 3,
     "metadata": {},
     "output_type": "execute_result"
    }
   ],
   "source": [
    "df.head(5)"
   ]
  },
  {
   "cell_type": "code",
   "execution_count": 4,
   "id": "fbe5e3dd-0117-4513-bb35-e0078002ab7a",
   "metadata": {},
   "outputs": [
    {
     "name": "stdout",
     "output_type": "stream",
     "text": [
      "<class 'pandas.core.frame.DataFrame'>\n",
      "RangeIndex: 875 entries, 0 to 874\n",
      "Data columns (total 6 columns):\n",
      " #   Column       Non-Null Count  Dtype \n",
      "---  ------       --------------  ----- \n",
      " 0   title        875 non-null    object\n",
      " 1   ingredients  875 non-null    object\n",
      " 2   directions   875 non-null    object\n",
      " 3   misc         875 non-null    object\n",
      " 4   source       875 non-null    object\n",
      " 5   ner          875 non-null    object\n",
      "dtypes: object(6)\n",
      "memory usage: 41.1+ KB\n"
     ]
    }
   ],
   "source": [
    "df.info()"
   ]
  },
  {
   "cell_type": "code",
   "execution_count": 5,
   "id": "59c148a8-4d4f-4e2d-ad11-aae9d1208c23",
   "metadata": {},
   "outputs": [
    {
     "data": {
      "text/plain": [
       "(875, 6)"
      ]
     },
     "execution_count": 5,
     "metadata": {},
     "output_type": "execute_result"
    }
   ],
   "source": [
    "df.shape"
   ]
  },
  {
   "cell_type": "markdown",
   "id": "0c4acd67-d0eb-4186-a1b3-166d65b81342",
   "metadata": {},
   "source": [
    "# Data Cleaning"
   ]
  },
  {
   "cell_type": "markdown",
   "id": "1ba809e6-bdaa-4bd8-9767-455da0d4ef07",
   "metadata": {},
   "source": [
    "## Lowercase standardization"
   ]
  },
  {
   "cell_type": "markdown",
   "id": "2fa4fe0c-9f23-456f-8b2b-03aa5b449316",
   "metadata": {},
   "source": [
    "Here we remove adjectives and lowercase all ingredients to avoid redundancies. "
   ]
  },
  {
   "cell_type": "code",
   "execution_count": 6,
   "id": "7913bd3c-eaf5-4f69-901b-64dcaf864699",
   "metadata": {},
   "outputs": [],
   "source": [
    "def lowercase_ingredients(ingredients_list):\n",
    "    \"\"\"\n",
    "    Converts all strings within a list of ingredients to lowercase.\n",
    "\n",
    "    This function is useful for standardizing the case of all ingredient entries,\n",
    "    making the dataset more uniform for analysis or processing.\n",
    "\n",
    "    Parameters:\n",
    "    \n",
    "    ingredients_list (list): A list of ingredient strings.\n",
    "      Returns:\n",
    "    A list of ingredients with all strings converted to lowercase.\n",
    "    \"\"\"\n",
    "    # Check if ingredients_list is indeed a list; if not, return it as is\n",
    "    if not isinstance(ingredients_list, list):\n",
    "        return ingredients_list\n",
    "\n",
    "    # Convert each ingredient in the list to lowercase\n",
    "    lowercase_list = [ingredient.lower() for ingredient in ingredients_list]\n",
    "    return lowercase_list\n",
    "\n",
    "# Apply the function to the 'ingredients' column\n",
    "df['ingredients'] = df['ingredients'].apply(lowercase_ingredients)"
   ]
  },
  {
   "cell_type": "markdown",
   "id": "6060e0b2-cc18-4974-896f-5d0d4747c38c",
   "metadata": {},
   "source": [
    "## Adjective Removal"
   ]
  },
  {
   "cell_type": "markdown",
   "id": "31f1c0e0-7696-49db-a970-58891319a305",
   "metadata": {},
   "source": [
    "To eliminate ingredient redundancies, we are removing adjectives in the following code block:"
   ]
  },
  {
   "cell_type": "code",
   "execution_count": 7,
   "id": "257af2cc-205c-4c42-ad87-54f65aa198cf",
   "metadata": {},
   "outputs": [],
   "source": [
    "# Lowercase all items in the ingredient list and remove \"fresh\"\n",
    "for index, row in df.iterrows():\n",
    "    # Update the ingredients list by removing 'fresh' if it exists\n",
    "    updated_ingredients = [ingredient.replace('fresh ', '') if 'fresh ' in ingredient else ingredient for ingredient in row['ingredients']]\n",
    "    # Update the DataFrame with the modified ingredients list\n",
    "    df.at[index, 'ingredients'] = updated_ingredients"
   ]
  },
  {
   "cell_type": "markdown",
   "id": "97da6789-bed2-45af-982c-77380e863448",
   "metadata": {
    "tags": []
   },
   "source": [
    "## Deleting Empty Rows"
   ]
  },
  {
   "cell_type": "markdown",
   "id": "3f53e410-7302-4a64-84b9-121836c490b7",
   "metadata": {},
   "source": [
    "### Filtering rows where `Ingredients` is empty"
   ]
  },
  {
   "cell_type": "markdown",
   "id": "0f1e3d38-14b8-417a-a175-da6b84a8c194",
   "metadata": {},
   "source": [
    "There were two scenarios in the data, ingredients being len of 0, and ingredients being an empty string list (len of 1, being the list, but its still empty)."
   ]
  },
  {
   "cell_type": "code",
   "execution_count": 8,
   "id": "f55685ce-b660-4745-a362-591ba4e335c4",
   "metadata": {},
   "outputs": [],
   "source": [
    "# Filter rows where `ingredients` is not empty and not just an empty string list\n",
    "modified_df = df[df['ingredients'].apply(lambda x: len(x) > 0 and x != [''])].reset_index(drop=True)"
   ]
  },
  {
   "cell_type": "markdown",
   "id": "1403b909-0dc2-4868-a0ca-6a84dad98bd7",
   "metadata": {},
   "source": [
    "### Removing Irreparable Entries"
   ]
  },
  {
   "cell_type": "markdown",
   "id": "69d62a6f-b8af-473c-b94f-e73e3201b433",
   "metadata": {},
   "source": [
    "This section will involve deleting entries which we have deemed problematic and unfixable, associated reason for deletion will be in the comment."
   ]
  },
  {
   "cell_type": "code",
   "execution_count": 9,
   "id": "e6d1beec-dc79-4936-8d99-0fca46cb2fae",
   "metadata": {},
   "outputs": [],
   "source": [
    "indices_to_drop = [7] # Industrial size recipie, acts as outlier for portions "
   ]
  },
  {
   "cell_type": "code",
   "execution_count": 10,
   "id": "176fa978-a613-46b0-b0fc-98144790207d",
   "metadata": {},
   "outputs": [],
   "source": [
    "# We reset index AFTER dropping all the `indices_to_drop` , as we must retain the indexing while dropping all of them, otherwise dropping them will affect the index of the subsequently dropped recipie\n",
    "modified_df = modified_df.drop(index=indices_to_drop).reset_index(drop=True) "
   ]
  },
  {
   "cell_type": "markdown",
   "id": "58b2c851-88e3-4bac-8ea7-66eda871fdc3",
   "metadata": {
    "tags": []
   },
   "source": [
    "## Normalization"
   ]
  },
  {
   "cell_type": "markdown",
   "id": "4b09c09f-b9cb-4689-a3ae-d9d327b975ef",
   "metadata": {},
   "source": [
    "### Ingredients Lists: Separating Combined Strings"
   ]
  },
  {
   "cell_type": "code",
   "execution_count": 11,
   "id": "772c1f21-ec07-4c3e-9052-a4cadb086513",
   "metadata": {},
   "outputs": [],
   "source": [
    "def split_combined_ingredients(ingredients_list):\n",
    "    \"\"\"\n",
    "    Splits a single-item list containing a string of ingredients separated by commas\n",
    "    into a list of individual ingredients. If the list contains more than one item or\n",
    "    if the single item does not contain a comma, the original list is returned.\n",
    "\n",
    "    This is useful for normalizing ingredients lists where all ingredients are combined\n",
    "    into a single string.\n",
    "\n",
    "    Parameters:\n",
    "    - ingredients_list: A list of ingredient(s).\n",
    "\n",
    "    Returns:\n",
    "    - A list of separated and trimmed ingredient strings.\n",
    "    \"\"\"\n",
    "    if len(ingredients_list) == 1 and ',' in ingredients_list[0]:\n",
    "        return [ingredient.strip() for ingredient in ingredients_list[0].split(', ')]\n",
    "    else:\n",
    "        return ingredients_list\n",
    "\n",
    "# Applying the function\n",
    "modified_df['ingredients'] = modified_df['ingredients'].apply(split_combined_ingredients)"
   ]
  },
  {
   "cell_type": "markdown",
   "id": "77b7ea99-901a-4496-a86c-09a27d773136",
   "metadata": {},
   "source": [
    "### Deleting ingredients listed as optional "
   ]
  },
  {
   "cell_type": "code",
   "execution_count": 12,
   "id": "c6e60862-2db0-42a5-9db5-64c26d6b3b11",
   "metadata": {},
   "outputs": [],
   "source": [
    "def filter_optional_ingredients(ingredients_list):\n",
    "    \"\"\"\n",
    "    Filters out ingredients marked as \"optional\" from a list of ingredients.\n",
    "    \n",
    "    This function iterates through a given list of ingredient strings, removing\n",
    "    any ingredient that contains the word \"optional\". The goal is to create a more\n",
    "    concise and essential list of ingredients by excluding those that are not\n",
    "    crucial to the recipe. This step is part of data cleaning to standardize\n",
    "    the ingredients data for further analysis.\n",
    "    \n",
    "    Parameters:\n",
    "    - ingredients_list: A list of strings, where each string is an ingredient.\n",
    "\n",
    "    Returns:\n",
    "    - A list of ingredient strings, excluding any marked as \"optional\".\n",
    "    \"\"\"\n",
    "    optional_keyword = 'optional'\n",
    "    filtered_list = [ingredient for ingredient in ingredients_list if optional_keyword not in ingredient.lower()]\n",
    "    return filtered_list\n",
    "\n",
    "# Apply the filtering function to the 'ingredients' column\n",
    "modified_df['ingredients'] = modified_df['ingredients'].apply(filter_optional_ingredients)\n"
   ]
  },
  {
   "cell_type": "markdown",
   "id": "a4b0e08d-803a-49ee-afdc-38d69036a6cc",
   "metadata": {},
   "source": [
    "### Deleting steps in `ingredients` that are not usable"
   ]
  },
  {
   "cell_type": "code",
   "execution_count": 14,
   "id": "acaffb70-8812-449a-99c9-a3e78e3b9238",
   "metadata": {},
   "outputs": [],
   "source": [
    "def delete_ingredients_at_steps(df, row_index, ingredient_steps):\n",
    "    \"\"\"\n",
    "    Removes ingredients at specified steps (indices) from the list of ingredients\n",
    "    for a given row in the DataFrame.\n",
    "\n",
    "    Parameters:\n",
    "    - df (DataFrame): The DataFrame containing the recipe information.\n",
    "    - row_index (int): The index of the row from which to remove the ingredients.\n",
    "    - ingredient_steps (list of int): The indices of the ingredients to remove within the ingredients list.\n",
    "    \n",
    "    Returns:\n",
    "    - None; modifies the DataFrame in place.\n",
    "    \"\"\"\n",
    "    # Ensure the row_index is within the DataFrame's range\n",
    "    if row_index < 0 or row_index >= len(df):\n",
    "        print(\"Row index is out of DataFrame's range.\")\n",
    "        return\n",
    "    \n",
    "    # Get the current list of ingredients for the specified row\n",
    "    ingredients_list = df.at[row_index, 'ingredients']\n",
    "    \n",
    "    # Check if ingredient_steps is a single integer, wrap it in a list\n",
    "    if isinstance(ingredient_steps, int):\n",
    "        ingredient_steps = [ingredient_steps]\n",
    "\n",
    "    # Ensure ingredients_list is a list\n",
    "    if not isinstance(ingredients_list, list):\n",
    "        print(\"Ingredients are not in list format for the specified row.\")\n",
    "        return\n",
    "    \n",
    "    # Remove the ingredients at the specified steps\n",
    "    # Sort the indices in reverse order to avoid index shift during deletion\n",
    "    for step in sorted(ingredient_steps, reverse=True):\n",
    "        # Check each step's validity before attempting to delete\n",
    "        if step < 0 or step >= len(ingredients_list):\n",
    "            print(f\"Ingredient step {step} is out of range and will not be deleted.\")\n",
    "            continue\n",
    "        del ingredients_list[step]\n",
    "    \n",
    "    # Update the DataFrame in place\n",
    "    df.at[row_index, 'ingredients'] = ingredients_list"
   ]
  },
  {
   "cell_type": "code",
   "execution_count": 26,
   "id": "3fd2118a-e7d2-4997-9b0e-cf6c4532c54e",
   "metadata": {},
   "outputs": [
    {
     "data": {
      "text/plain": [
       "['1.5 oz. 151-proof demerara rum [lemon hart or el dorado]',\n",
       " '0.5 oz. lime juice',\n",
       " '0.5 oz. sugar syrup',\n",
       " '1 dash angostura bitters',\n",
       " '6 drops [1\\\\/8 tsp.] pernod',\n",
       " '8 oz. crushed ice']"
      ]
     },
     "execution_count": 26,
     "metadata": {},
     "output_type": "execute_result"
    }
   ],
   "source": [
    "# Use this to check row [n] of modified_df['ingredients'] \n",
    "modified_df['ingredients'][0]"
   ]
  },
  {
   "cell_type": "code",
   "execution_count": 15,
   "id": "6783983b-a008-4636-b04b-71db0a997a0b",
   "metadata": {},
   "outputs": [],
   "source": [
    "# Usage of delete_ingredient_at_steps function to remove entries \n",
    "delete_ingredients_at_steps(modified_df, 0, [6, 7])"
   ]
  },
  {
   "cell_type": "code",
   "execution_count": 16,
   "id": "1a9dcd2a-6b71-414a-bd8e-7d58064f15ad",
   "metadata": {},
   "outputs": [
    {
     "data": {
      "text/plain": [
       "['1.5 oz. 151-proof demerara rum [lemon hart or el dorado]',\n",
       " '0.5 oz. lime juice',\n",
       " '0.5 oz. sugar syrup',\n",
       " '1 dash angostura bitters',\n",
       " '6 drops [1\\\\/8 tsp.] pernod',\n",
       " '8 oz. crushed ice']"
      ]
     },
     "execution_count": 16,
     "metadata": {},
     "output_type": "execute_result"
    }
   ],
   "source": [
    "# Use to check above deleted correct indexes\n",
    "modified_df['ingredients'][0]"
   ]
  },
  {
   "cell_type": "markdown",
   "id": "cec81342-6e18-4c27-8ec4-9da20c064433",
   "metadata": {},
   "source": [
    "# Parsing"
   ]
  },
  {
   "cell_type": "code",
   "execution_count": 17,
   "id": "c93c33c8-6223-40fe-bb26-a54eacea3dc5",
   "metadata": {},
   "outputs": [],
   "source": [
    "def parse_ingredient(ingredient_str, step_index):\n",
    "    \"\"\"\n",
    "    Parses a single ingredient string into its parts: quantity, unit, and ingredient name,\n",
    "    while also correcting known formatting issues and standardizing units and ingredient names.\n",
    "    The function lowers the case of all items in the ingredient list, removes the term \"fresh\",\n",
    "    and eliminates backslashes. It then applies a regular expression to extract the quantity, unit,\n",
    "    and ingredient name from the cleaned string.\n",
    "\n",
    "    Parameters:\n",
    "    - ingredient_str (str): The ingredient string to be parsed.\n",
    "    - step_index (int): The step index or sequence number of the ingredient in the recipe.\n",
    "\n",
    "    Returns:\n",
    "    - A dictionary with the parsed components of the ingredient: 'quantity', 'unit', 'ingredient',\n",
    "      and 'ingredient_step'. If the string does not match the expected pattern, 'quantity' and 'unit'\n",
    "      are returned as None, and 'ingredient' contains the original (corrected) string with 'ingredient_step'\n",
    "      reflecting the passed step_index.\n",
    "\n",
    "    The function is designed to handle a variety of ingredient formats by using a comprehensive regular\n",
    "    expression. It accounts for different measurement units and formats, aiming to standardize the data\n",
    "    for further processing or analysis.\n",
    "    \"\"\"\n",
    "    \n",
    "    # Pre-process to correct known formatting issues\n",
    "    corrected_str = re.sub(r'\\\\', '', ingredient_str)  # Remove backslashes that might interfere with parsing\n",
    "    corrected_str = corrected_str.strip()\n",
    "    \n",
    "    pattern = re.compile(\n",
    "        r'(?P<quantity>\\d+\\s*\\d*\\/\\d+|\\d*\\.\\d+|\\d+)?\\s*'  # Capture quantities, fractions, decimals\n",
    "        r'(?P<unit>oz|ounces?|tsp|teaspoons?|tablespoons?|tbl|tbs|cups?|pints?|quarts?|gallons?|lbs?|pounds?|ml|mL|liters?|dash|dashes|drops?|pinch|pinches|qt|qts|cl)?\\.?\\s*' \n",
    "        r'(?P<ingredient>.+)', re.IGNORECASE)\n",
    "    \n",
    "    match = pattern.match(corrected_str)\n",
    "    \n",
    "    if match:\n",
    "        # Normalize unit names\n",
    "        unit = match.group('unit')\n",
    "        if unit:\n",
    "            unit = unit.lower()\n",
    "            if unit in ['tsp', 'teaspoons']:\n",
    "                unit = 'tsp'\n",
    "            elif unit in ['tbl', 'tbs', 'tablespoons']:\n",
    "                unit = 'tbsp'\n",
    "            elif unit in ['pounds', 'pound', 'lbs']:\n",
    "                unit = 'lb'\n",
    "            elif unit in ['gallons', 'gallon']:\n",
    "                unit = 'gal'\n",
    "            elif unit in ['ounces', 'ounce', 'oz']:\n",
    "                unit = 'oz'\n",
    "            elif unit in ['milliliters', 'millilitre', 'ml', 'mL']:\n",
    "                unit = 'ml'\n",
    "            elif unit in ['liters', 'litre']:\n",
    "                unit = 'l'\n",
    "            elif unit in ['qt', 'qts']:  \n",
    "                unit = 'qt'\n",
    "        \n",
    "        return {\n",
    "            'quantity': match.group('quantity'), \n",
    "            'unit': unit, \n",
    "            'ingredient': match.group('ingredient').strip(), \n",
    "            'ingredient_step': step_index\n",
    "        }\n",
    "    else:\n",
    "        # Handling cases that don't fit the expected pattern\n",
    "        return {\n",
    "            'quantity': None, \n",
    "            'unit': None, \n",
    "            'ingredient': corrected_str, \n",
    "            'ingredient_step': step_index\n",
    "        }"
   ]
  },
  {
   "cell_type": "code",
   "execution_count": 18,
   "id": "b28d9bcf-57d3-4ea3-89e3-31463ff26882",
   "metadata": {},
   "outputs": [],
   "source": [
    "parsed_ingredients_list = []"
   ]
  },
  {
   "cell_type": "code",
   "execution_count": 19,
   "id": "4c6406dc-bffb-40f7-a047-142976003607",
   "metadata": {},
   "outputs": [],
   "source": [
    "for index, row in modified_df.iterrows():\n",
    "    for idx, ingredient in enumerate(row['ingredients']):\n",
    "        parsed_ingredient = parse_ingredient(ingredient, idx)\n",
    "        parsed_ingredient['recipe_id'] = index  # Adding the recipe ID to each ingredient\n",
    "        parsed_ingredients_list.append(parsed_ingredient)\n",
    "\n",
    "# Convert the list of dictionaries into a DataFrame\n",
    "parsed_df = pd.DataFrame(parsed_ingredients_list)"
   ]
  },
  {
   "cell_type": "code",
   "execution_count": 20,
   "id": "89015fea-f2f1-4a1e-986c-d8162bb78929",
   "metadata": {},
   "outputs": [
    {
     "data": {
      "text/html": [
       "<div>\n",
       "<style scoped>\n",
       "    .dataframe tbody tr th:only-of-type {\n",
       "        vertical-align: middle;\n",
       "    }\n",
       "\n",
       "    .dataframe tbody tr th {\n",
       "        vertical-align: top;\n",
       "    }\n",
       "\n",
       "    .dataframe thead th {\n",
       "        text-align: right;\n",
       "    }\n",
       "</style>\n",
       "<table border=\"1\" class=\"dataframe\">\n",
       "  <thead>\n",
       "    <tr style=\"text-align: right;\">\n",
       "      <th></th>\n",
       "      <th>quantity</th>\n",
       "      <th>unit</th>\n",
       "      <th>ingredient</th>\n",
       "      <th>ingredient_step</th>\n",
       "      <th>recipe_id</th>\n",
       "    </tr>\n",
       "  </thead>\n",
       "  <tbody>\n",
       "    <tr>\n",
       "      <th>0</th>\n",
       "      <td>1.5</td>\n",
       "      <td>oz</td>\n",
       "      <td>151-proof demerara rum [lemon hart or el dorado]</td>\n",
       "      <td>0</td>\n",
       "      <td>0</td>\n",
       "    </tr>\n",
       "    <tr>\n",
       "      <th>1</th>\n",
       "      <td>0.5</td>\n",
       "      <td>oz</td>\n",
       "      <td>lime juice</td>\n",
       "      <td>1</td>\n",
       "      <td>0</td>\n",
       "    </tr>\n",
       "    <tr>\n",
       "      <th>2</th>\n",
       "      <td>0.5</td>\n",
       "      <td>oz</td>\n",
       "      <td>sugar syrup</td>\n",
       "      <td>2</td>\n",
       "      <td>0</td>\n",
       "    </tr>\n",
       "    <tr>\n",
       "      <th>3</th>\n",
       "      <td>1</td>\n",
       "      <td>dash</td>\n",
       "      <td>angostura bitters</td>\n",
       "      <td>3</td>\n",
       "      <td>0</td>\n",
       "    </tr>\n",
       "    <tr>\n",
       "      <th>4</th>\n",
       "      <td>6</td>\n",
       "      <td>drops</td>\n",
       "      <td>[1/8 tsp.] pernod</td>\n",
       "      <td>4</td>\n",
       "      <td>0</td>\n",
       "    </tr>\n",
       "    <tr>\n",
       "      <th>...</th>\n",
       "      <td>...</td>\n",
       "      <td>...</td>\n",
       "      <td>...</td>\n",
       "      <td>...</td>\n",
       "      <td>...</td>\n",
       "    </tr>\n",
       "    <tr>\n",
       "      <th>3871</th>\n",
       "      <td>.5</td>\n",
       "      <td>oz</td>\n",
       "      <td>dolin blanc</td>\n",
       "      <td>3</td>\n",
       "      <td>868</td>\n",
       "    </tr>\n",
       "    <tr>\n",
       "      <th>3872</th>\n",
       "      <td>1</td>\n",
       "      <td>dash</td>\n",
       "      <td>orange bitters</td>\n",
       "      <td>4</td>\n",
       "      <td>868</td>\n",
       "    </tr>\n",
       "    <tr>\n",
       "      <th>3873</th>\n",
       "      <td>None</td>\n",
       "      <td>None</td>\n",
       "      <td>shake on ice and strain\"</td>\n",
       "      <td>5</td>\n",
       "      <td>868</td>\n",
       "    </tr>\n",
       "    <tr>\n",
       "      <th>3874</th>\n",
       "      <td>None</td>\n",
       "      <td>None</td>\n",
       "      <td>champagne</td>\n",
       "      <td>0</td>\n",
       "      <td>869</td>\n",
       "    </tr>\n",
       "    <tr>\n",
       "      <th>3875</th>\n",
       "      <td>None</td>\n",
       "      <td>None</td>\n",
       "      <td>orange juice-ish</td>\n",
       "      <td>1</td>\n",
       "      <td>869</td>\n",
       "    </tr>\n",
       "  </tbody>\n",
       "</table>\n",
       "<p>3876 rows × 5 columns</p>\n",
       "</div>"
      ],
      "text/plain": [
       "     quantity   unit                                        ingredient  \\\n",
       "0         1.5     oz  151-proof demerara rum [lemon hart or el dorado]   \n",
       "1         0.5     oz                                        lime juice   \n",
       "2         0.5     oz                                       sugar syrup   \n",
       "3           1   dash                                 angostura bitters   \n",
       "4           6  drops                                 [1/8 tsp.] pernod   \n",
       "...       ...    ...                                               ...   \n",
       "3871       .5     oz                                       dolin blanc   \n",
       "3872        1   dash                                    orange bitters   \n",
       "3873     None   None                          shake on ice and strain\"   \n",
       "3874     None   None                                         champagne   \n",
       "3875     None   None                                  orange juice-ish   \n",
       "\n",
       "      ingredient_step  recipe_id  \n",
       "0                   0          0  \n",
       "1                   1          0  \n",
       "2                   2          0  \n",
       "3                   3          0  \n",
       "4                   4          0  \n",
       "...               ...        ...  \n",
       "3871                3        868  \n",
       "3872                4        868  \n",
       "3873                5        868  \n",
       "3874                0        869  \n",
       "3875                1        869  \n",
       "\n",
       "[3876 rows x 5 columns]"
      ]
     },
     "execution_count": 20,
     "metadata": {},
     "output_type": "execute_result"
    }
   ],
   "source": [
    "parsed_df"
   ]
  },
  {
   "cell_type": "markdown",
   "id": "cfe6dafc-8ea4-4435-b9d7-7821163af5c6",
   "metadata": {},
   "source": [
    "# Post-Parsing Analysis"
   ]
  },
  {
   "cell_type": "markdown",
   "id": "84e302c8-44ad-4a3d-9185-f33e8b753dda",
   "metadata": {},
   "source": [
    "## Tools to Inspect"
   ]
  },
  {
   "cell_type": "markdown",
   "id": "516321d4-f905-48e5-992d-2a1c22b5d7e4",
   "metadata": {},
   "source": [
    "### `inspect_row` function"
   ]
  },
  {
   "cell_type": "code",
   "execution_count": 21,
   "id": "9165a025-7cab-4cfa-8f28-a411a51218d0",
   "metadata": {},
   "outputs": [],
   "source": [
    "def inspect_row(modified_df, parsed_df, row_index):\n",
    "    \"\"\"\n",
    "    Prints the title, ingredients, and directions of a given row in the modified DataFrame,\n",
    "    and then prints all corresponding parsed ingredient rows from the parsed DataFrame.\n",
    "    \n",
    "    Parameters:\n",
    "    - modified_df: pandas DataFrame containing the original cocktail data.\n",
    "    - parsed_df: pandas DataFrame containing the parsed ingredients data.\n",
    "    - row_index: Integer index of the row to inspect in modified_df and to match in parsed_df.\n",
    "    \"\"\"\n",
    "    # Print details from the modified DataFrame\n",
    "    print(f\"Title: {modified_df.loc[row_index, 'title']}\\n\")\n",
    "    print(\"Ingredients:\")\n",
    "    for ingredient in modified_df.loc[row_index, 'ingredients']:\n",
    "        print(f\"- {ingredient}\")\n",
    "    print(\"\\nDirections:\")\n",
    "    for direction in modified_df.loc[row_index, 'directions']:\n",
    "        print(f\"- {direction}\")\n",
    "    \n",
    "    # Print corresponding rows from the parsed DataFrame\n",
    "    print(\"\\nParsed Ingredients:\")\n",
    "    parsed_rows = parsed_df[parsed_df['recipe_id'] == row_index]\n",
    "    if not parsed_rows.empty:\n",
    "        print(parsed_rows.to_string(index=False))\n",
    "    else:\n",
    "        print(\"No parsed ingredients found for this recipe.\")"
   ]
  },
  {
   "cell_type": "code",
   "execution_count": 22,
   "id": "0d12bbd2-4ff6-4828-bbdc-04bfa3b22272",
   "metadata": {},
   "outputs": [
    {
     "name": "stdout",
     "output_type": "stream",
     "text": [
      "Title: 151 Swizzle\n",
      "\n",
      "Ingredients:\n",
      "- 1.5 oz. 151-proof demerara rum [lemon hart or el dorado]\n",
      "- 0.5 oz. lime juice\n",
      "- 0.5 oz. sugar syrup\n",
      "- 1 dash angostura bitters\n",
      "- 6 drops [1\\/8 tsp.] pernod\n",
      "- 8 oz. crushed ice\n",
      "\n",
      "Directions:\n",
      "- \n",
      "\n",
      "Parsed Ingredients:\n",
      "quantity  unit                                       ingredient  ingredient_step  recipe_id\n",
      "     1.5    oz 151-proof demerara rum [lemon hart or el dorado]                0          0\n",
      "     0.5    oz                                       lime juice                1          0\n",
      "     0.5    oz                                      sugar syrup                2          0\n",
      "       1  dash                                angostura bitters                3          0\n",
      "       6 drops                                [1/8 tsp.] pernod                4          0\n",
      "       8    oz                                      crushed ice                5          0\n"
     ]
    }
   ],
   "source": [
    "inspect_row(modified_df, parsed_df, 0)"
   ]
  },
  {
   "cell_type": "markdown",
   "id": "9abc6c74-ab71-43e1-9003-905c41e958cb",
   "metadata": {},
   "source": [
    "### none_rows call"
   ]
  },
  {
   "cell_type": "code",
   "execution_count": 23,
   "id": "b2b68c88-30f6-4c7d-8015-6acd27aa4ef8",
   "metadata": {},
   "outputs": [
    {
     "data": {
      "text/html": [
       "<div>\n",
       "<style scoped>\n",
       "    .dataframe tbody tr th:only-of-type {\n",
       "        vertical-align: middle;\n",
       "    }\n",
       "\n",
       "    .dataframe tbody tr th {\n",
       "        vertical-align: top;\n",
       "    }\n",
       "\n",
       "    .dataframe thead th {\n",
       "        text-align: right;\n",
       "    }\n",
       "</style>\n",
       "<table border=\"1\" class=\"dataframe\">\n",
       "  <thead>\n",
       "    <tr style=\"text-align: right;\">\n",
       "      <th></th>\n",
       "      <th>quantity</th>\n",
       "      <th>unit</th>\n",
       "      <th>ingredient</th>\n",
       "      <th>ingredient_step</th>\n",
       "      <th>recipe_id</th>\n",
       "    </tr>\n",
       "  </thead>\n",
       "  <tbody>\n",
       "    <tr>\n",
       "      <th>0</th>\n",
       "      <td>None</td>\n",
       "      <td>None</td>\n",
       "      <td>the 21st century</td>\n",
       "      <td>0</td>\n",
       "      <td>1</td>\n",
       "    </tr>\n",
       "    <tr>\n",
       "      <th>1</th>\n",
       "      <td>None</td>\n",
       "      <td>None</td>\n",
       "      <td>rinse coupe glass with pernod</td>\n",
       "      <td>4</td>\n",
       "      <td>1</td>\n",
       "    </tr>\n",
       "    <tr>\n",
       "      <th>2</th>\n",
       "      <td>1</td>\n",
       "      <td>None</td>\n",
       "      <td>sugar cube</td>\n",
       "      <td>1</td>\n",
       "      <td>3</td>\n",
       "    </tr>\n",
       "    <tr>\n",
       "      <th>3</th>\n",
       "      <td>1</td>\n",
       "      <td>None</td>\n",
       "      <td>perforated spoon</td>\n",
       "      <td>3</td>\n",
       "      <td>3</td>\n",
       "    </tr>\n",
       "    <tr>\n",
       "      <th>4</th>\n",
       "      <td>1</td>\n",
       "      <td>None</td>\n",
       "      <td>barspoon lime juice</td>\n",
       "      <td>3</td>\n",
       "      <td>5</td>\n",
       "    </tr>\n",
       "    <tr>\n",
       "      <th>...</th>\n",
       "      <td>...</td>\n",
       "      <td>...</td>\n",
       "      <td>...</td>\n",
       "      <td>...</td>\n",
       "      <td>...</td>\n",
       "    </tr>\n",
       "    <tr>\n",
       "      <th>1489</th>\n",
       "      <td>None</td>\n",
       "      <td>None</td>\n",
       "      <td>variation: substitute 1/2 ounce galliano and 1...</td>\n",
       "      <td>8</td>\n",
       "      <td>865</td>\n",
       "    </tr>\n",
       "    <tr>\n",
       "      <th>1490</th>\n",
       "      <td>None</td>\n",
       "      <td>None</td>\n",
       "      <td></td>\n",
       "      <td>9</td>\n",
       "      <td>865</td>\n",
       "    </tr>\n",
       "    <tr>\n",
       "      <th>1491</th>\n",
       "      <td>None</td>\n",
       "      <td>None</td>\n",
       "      <td>shake on ice and strain\"</td>\n",
       "      <td>5</td>\n",
       "      <td>868</td>\n",
       "    </tr>\n",
       "    <tr>\n",
       "      <th>1492</th>\n",
       "      <td>None</td>\n",
       "      <td>None</td>\n",
       "      <td>champagne</td>\n",
       "      <td>0</td>\n",
       "      <td>869</td>\n",
       "    </tr>\n",
       "    <tr>\n",
       "      <th>1493</th>\n",
       "      <td>None</td>\n",
       "      <td>None</td>\n",
       "      <td>orange juice-ish</td>\n",
       "      <td>1</td>\n",
       "      <td>869</td>\n",
       "    </tr>\n",
       "  </tbody>\n",
       "</table>\n",
       "<p>1494 rows × 5 columns</p>\n",
       "</div>"
      ],
      "text/plain": [
       "     quantity  unit                                         ingredient  \\\n",
       "0        None  None                                   the 21st century   \n",
       "1        None  None                      rinse coupe glass with pernod   \n",
       "2           1  None                                         sugar cube   \n",
       "3           1  None                                   perforated spoon   \n",
       "4           1  None                                barspoon lime juice   \n",
       "...       ...   ...                                                ...   \n",
       "1489     None  None  variation: substitute 1/2 ounce galliano and 1...   \n",
       "1490     None  None                                                      \n",
       "1491     None  None                           shake on ice and strain\"   \n",
       "1492     None  None                                          champagne   \n",
       "1493     None  None                                   orange juice-ish   \n",
       "\n",
       "      ingredient_step  recipe_id  \n",
       "0                   0          1  \n",
       "1                   4          1  \n",
       "2                   1          3  \n",
       "3                   3          3  \n",
       "4                   3          5  \n",
       "...               ...        ...  \n",
       "1489                8        865  \n",
       "1490                9        865  \n",
       "1491                5        868  \n",
       "1492                0        869  \n",
       "1493                1        869  \n",
       "\n",
       "[1494 rows x 5 columns]"
      ]
     },
     "execution_count": 23,
     "metadata": {},
     "output_type": "execute_result"
    }
   ],
   "source": [
    "# Filter rows and reset index \n",
    "none_rows = parsed_df.loc[parsed_df['quantity'].isnull() | parsed_df['unit'].isnull()].reset_index(drop=True)\n",
    "\n",
    "# Display the filtered dataframe\n",
    "none_rows"
   ]
  },
  {
   "cell_type": "code",
   "execution_count": 24,
   "id": "0b52f9a5-c96d-4aec-a5a8-eb8bc808b23f",
   "metadata": {},
   "outputs": [
    {
     "data": {
      "text/html": [
       "<div>\n",
       "<style scoped>\n",
       "    .dataframe tbody tr th:only-of-type {\n",
       "        vertical-align: middle;\n",
       "    }\n",
       "\n",
       "    .dataframe tbody tr th {\n",
       "        vertical-align: top;\n",
       "    }\n",
       "\n",
       "    .dataframe thead th {\n",
       "        text-align: right;\n",
       "    }\n",
       "</style>\n",
       "<table border=\"1\" class=\"dataframe\">\n",
       "  <thead>\n",
       "    <tr style=\"text-align: right;\">\n",
       "      <th></th>\n",
       "      <th>quantity</th>\n",
       "      <th>unit</th>\n",
       "      <th>ingredient</th>\n",
       "      <th>ingredient_step</th>\n",
       "      <th>recipe_id</th>\n",
       "    </tr>\n",
       "  </thead>\n",
       "  <tbody>\n",
       "    <tr>\n",
       "      <th>0</th>\n",
       "      <td>None</td>\n",
       "      <td>None</td>\n",
       "      <td>the 21st century</td>\n",
       "      <td>0</td>\n",
       "      <td>1</td>\n",
       "    </tr>\n",
       "    <tr>\n",
       "      <th>9</th>\n",
       "      <td>None</td>\n",
       "      <td>None</td>\n",
       "      <td>(a classic variation on the perfect rob roy), ...</td>\n",
       "      <td>0</td>\n",
       "      <td>7</td>\n",
       "    </tr>\n",
       "    <tr>\n",
       "      <th>11</th>\n",
       "      <td>None</td>\n",
       "      <td>None</td>\n",
       "      <td>a sidecar with lime juice instead of lemon juice.</td>\n",
       "      <td>0</td>\n",
       "      <td>9</td>\n",
       "    </tr>\n",
       "    <tr>\n",
       "      <th>16</th>\n",
       "      <td>1</td>\n",
       "      <td>None</td>\n",
       "      <td>part yellow chartreuse</td>\n",
       "      <td>0</td>\n",
       "      <td>12</td>\n",
       "    </tr>\n",
       "    <tr>\n",
       "      <th>27</th>\n",
       "      <td>3/4</td>\n",
       "      <td>None</td>\n",
       "      <td>dry gin</td>\n",
       "      <td>0</td>\n",
       "      <td>15</td>\n",
       "    </tr>\n",
       "    <tr>\n",
       "      <th>...</th>\n",
       "      <td>...</td>\n",
       "      <td>...</td>\n",
       "      <td>...</td>\n",
       "      <td>...</td>\n",
       "      <td>...</td>\n",
       "    </tr>\n",
       "    <tr>\n",
       "      <th>1477</th>\n",
       "      <td>None</td>\n",
       "      <td>None</td>\n",
       "      <td>after dinner cocktail</td>\n",
       "      <td>0</td>\n",
       "      <td>858</td>\n",
       "    </tr>\n",
       "    <tr>\n",
       "      <th>1481</th>\n",
       "      <td>2</td>\n",
       "      <td>None</td>\n",
       "      <td>orange wedges</td>\n",
       "      <td>0</td>\n",
       "      <td>861</td>\n",
       "    </tr>\n",
       "    <tr>\n",
       "      <th>1485</th>\n",
       "      <td>None</td>\n",
       "      <td>None</td>\n",
       "      <td>woo woo shooter on page 429.</td>\n",
       "      <td>0</td>\n",
       "      <td>862</td>\n",
       "    </tr>\n",
       "    <tr>\n",
       "      <th>1486</th>\n",
       "      <td>None</td>\n",
       "      <td>None</td>\n",
       "      <td>a caribbean favorite.</td>\n",
       "      <td>0</td>\n",
       "      <td>865</td>\n",
       "    </tr>\n",
       "    <tr>\n",
       "      <th>1492</th>\n",
       "      <td>None</td>\n",
       "      <td>None</td>\n",
       "      <td>champagne</td>\n",
       "      <td>0</td>\n",
       "      <td>869</td>\n",
       "    </tr>\n",
       "  </tbody>\n",
       "</table>\n",
       "<p>347 rows × 5 columns</p>\n",
       "</div>"
      ],
      "text/plain": [
       "     quantity  unit                                         ingredient  \\\n",
       "0        None  None                                   the 21st century   \n",
       "9        None  None  (a classic variation on the perfect rob roy), ...   \n",
       "11       None  None  a sidecar with lime juice instead of lemon juice.   \n",
       "16          1  None                             part yellow chartreuse   \n",
       "27        3/4  None                                            dry gin   \n",
       "...       ...   ...                                                ...   \n",
       "1477     None  None                              after dinner cocktail   \n",
       "1481        2  None                                      orange wedges   \n",
       "1485     None  None                       woo woo shooter on page 429.   \n",
       "1486     None  None                              a caribbean favorite.   \n",
       "1492     None  None                                          champagne   \n",
       "\n",
       "      ingredient_step  recipe_id  \n",
       "0                   0          1  \n",
       "9                   0          7  \n",
       "11                  0          9  \n",
       "16                  0         12  \n",
       "27                  0         15  \n",
       "...               ...        ...  \n",
       "1477                0        858  \n",
       "1481                0        861  \n",
       "1485                0        862  \n",
       "1486                0        865  \n",
       "1492                0        869  \n",
       "\n",
       "[347 rows x 5 columns]"
      ]
     },
     "execution_count": 24,
     "metadata": {},
     "output_type": "execute_result"
    }
   ],
   "source": [
    "none_rows.loc[none_rows['ingredient_step'] == 0]"
   ]
  },
  {
   "cell_type": "code",
   "execution_count": 25,
   "id": "c908b504-e6bd-4a60-9032-a9497ebb8b22",
   "metadata": {},
   "outputs": [
    {
     "data": {
      "text/html": [
       "<div>\n",
       "<style scoped>\n",
       "    .dataframe tbody tr th:only-of-type {\n",
       "        vertical-align: middle;\n",
       "    }\n",
       "\n",
       "    .dataframe tbody tr th {\n",
       "        vertical-align: top;\n",
       "    }\n",
       "\n",
       "    .dataframe thead th {\n",
       "        text-align: right;\n",
       "    }\n",
       "</style>\n",
       "<table border=\"1\" class=\"dataframe\">\n",
       "  <thead>\n",
       "    <tr style=\"text-align: right;\">\n",
       "      <th></th>\n",
       "      <th>quantity</th>\n",
       "      <th>unit</th>\n",
       "      <th>ingredient</th>\n",
       "      <th>ingredient_step</th>\n",
       "      <th>recipe_id</th>\n",
       "    </tr>\n",
       "  </thead>\n",
       "  <tbody>\n",
       "    <tr>\n",
       "      <th>0</th>\n",
       "      <td>None</td>\n",
       "      <td>None</td>\n",
       "      <td>the 21st century</td>\n",
       "      <td>0</td>\n",
       "      <td>1</td>\n",
       "    </tr>\n",
       "    <tr>\n",
       "      <th>9</th>\n",
       "      <td>None</td>\n",
       "      <td>None</td>\n",
       "      <td>(a classic variation on the perfect rob roy), ...</td>\n",
       "      <td>0</td>\n",
       "      <td>7</td>\n",
       "    </tr>\n",
       "    <tr>\n",
       "      <th>11</th>\n",
       "      <td>None</td>\n",
       "      <td>None</td>\n",
       "      <td>a sidecar with lime juice instead of lemon juice.</td>\n",
       "      <td>0</td>\n",
       "      <td>9</td>\n",
       "    </tr>\n",
       "    <tr>\n",
       "      <th>16</th>\n",
       "      <td>1</td>\n",
       "      <td>None</td>\n",
       "      <td>part yellow chartreuse</td>\n",
       "      <td>0</td>\n",
       "      <td>12</td>\n",
       "    </tr>\n",
       "    <tr>\n",
       "      <th>27</th>\n",
       "      <td>3/4</td>\n",
       "      <td>None</td>\n",
       "      <td>dry gin</td>\n",
       "      <td>0</td>\n",
       "      <td>15</td>\n",
       "    </tr>\n",
       "    <tr>\n",
       "      <th>...</th>\n",
       "      <td>...</td>\n",
       "      <td>...</td>\n",
       "      <td>...</td>\n",
       "      <td>...</td>\n",
       "      <td>...</td>\n",
       "    </tr>\n",
       "    <tr>\n",
       "      <th>1477</th>\n",
       "      <td>None</td>\n",
       "      <td>None</td>\n",
       "      <td>after dinner cocktail</td>\n",
       "      <td>0</td>\n",
       "      <td>858</td>\n",
       "    </tr>\n",
       "    <tr>\n",
       "      <th>1481</th>\n",
       "      <td>2</td>\n",
       "      <td>None</td>\n",
       "      <td>orange wedges</td>\n",
       "      <td>0</td>\n",
       "      <td>861</td>\n",
       "    </tr>\n",
       "    <tr>\n",
       "      <th>1485</th>\n",
       "      <td>None</td>\n",
       "      <td>None</td>\n",
       "      <td>woo woo shooter on page 429.</td>\n",
       "      <td>0</td>\n",
       "      <td>862</td>\n",
       "    </tr>\n",
       "    <tr>\n",
       "      <th>1486</th>\n",
       "      <td>None</td>\n",
       "      <td>None</td>\n",
       "      <td>a caribbean favorite.</td>\n",
       "      <td>0</td>\n",
       "      <td>865</td>\n",
       "    </tr>\n",
       "    <tr>\n",
       "      <th>1492</th>\n",
       "      <td>None</td>\n",
       "      <td>None</td>\n",
       "      <td>champagne</td>\n",
       "      <td>0</td>\n",
       "      <td>869</td>\n",
       "    </tr>\n",
       "  </tbody>\n",
       "</table>\n",
       "<p>347 rows × 5 columns</p>\n",
       "</div>"
      ],
      "text/plain": [
       "     quantity  unit                                         ingredient  \\\n",
       "0        None  None                                   the 21st century   \n",
       "9        None  None  (a classic variation on the perfect rob roy), ...   \n",
       "11       None  None  a sidecar with lime juice instead of lemon juice.   \n",
       "16          1  None                             part yellow chartreuse   \n",
       "27        3/4  None                                            dry gin   \n",
       "...       ...   ...                                                ...   \n",
       "1477     None  None                              after dinner cocktail   \n",
       "1481        2  None                                      orange wedges   \n",
       "1485     None  None                       woo woo shooter on page 429.   \n",
       "1486     None  None                              a caribbean favorite.   \n",
       "1492     None  None                                          champagne   \n",
       "\n",
       "      ingredient_step  recipe_id  \n",
       "0                   0          1  \n",
       "9                   0          7  \n",
       "11                  0          9  \n",
       "16                  0         12  \n",
       "27                  0         15  \n",
       "...               ...        ...  \n",
       "1477                0        858  \n",
       "1481                0        861  \n",
       "1485                0        862  \n",
       "1486                0        865  \n",
       "1492                0        869  \n",
       "\n",
       "[347 rows x 5 columns]"
      ]
     },
     "execution_count": 25,
     "metadata": {},
     "output_type": "execute_result"
    }
   ],
   "source": [
    "none_rows.loc[none_rows['ingredient_step'] == 0]"
   ]
  },
  {
   "cell_type": "markdown",
   "id": "c52201cf-e24e-42ec-b9d6-b51037875db9",
   "metadata": {},
   "source": [
    "### Future tools/calls to look into problems"
   ]
  },
  {
   "cell_type": "markdown",
   "id": "71f34d85-2333-4754-b24d-729b9bbcaa54",
   "metadata": {},
   "source": [
    "Can leave this empty for now, just putting in a space here for futureproofing the cleanliness"
   ]
  },
  {
   "cell_type": "markdown",
   "id": "db79c7c5-42e6-49db-846c-cbf349ed4a6a",
   "metadata": {},
   "source": [
    "## Visual Analysis"
   ]
  },
  {
   "cell_type": "markdown",
   "id": "bf8ffaf7-a8b8-457c-8594-d1fe07967d8d",
   "metadata": {},
   "source": [
    "### Graphs/Visuals"
   ]
  },
  {
   "cell_type": "code",
   "execution_count": null,
   "id": "64bdd07a-7a0f-42ab-9080-629cfd9efdfc",
   "metadata": {},
   "outputs": [],
   "source": []
  },
  {
   "cell_type": "code",
   "execution_count": null,
   "id": "df96c01d-4661-4b25-abe6-dd0c63620831",
   "metadata": {},
   "outputs": [],
   "source": []
  }
 ],
 "metadata": {
  "kernelspec": {
   "display_name": "Python 3 (ipykernel)",
   "language": "python",
   "name": "python3"
  },
  "language_info": {
   "codemirror_mode": {
    "name": "ipython",
    "version": 3
   },
   "file_extension": ".py",
   "mimetype": "text/x-python",
   "name": "python",
   "nbconvert_exporter": "python",
   "pygments_lexer": "ipython3",
   "version": "3.11.7"
  }
 },
 "nbformat": 4,
 "nbformat_minor": 5
}
