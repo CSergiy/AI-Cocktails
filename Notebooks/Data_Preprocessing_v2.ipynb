{
 "cells": [
  {
   "cell_type": "markdown",
   "id": "b746915a-20fb-462b-8b69-a6776d073fd0",
   "metadata": {},
   "source": [
    "# Intro"
   ]
  },
  {
   "cell_type": "markdown",
   "id": "b70e43ab-ac50-4314-83f6-7cfe5f2d3ea8",
   "metadata": {},
   "source": [
    "The initial dataset being sourced is from the HuggingFace library, (https://huggingface.co/datasets/brianarbuckle/cocktail_recipes)\n",
    "\n",
    "This initial dataset contains columns `title`, `ingredients`, `directions`, `misc`, `source`, and `ner`."
   ]
  },
  {
   "cell_type": "markdown",
   "id": "ddc21d0f-7e21-43cc-b434-18f86298369a",
   "metadata": {},
   "source": [
    "**Overview**\n",
    "The 'Ingredients' column of our dataset presents a unique challenge. It consists of objects, each being a list of strings, where each string details a part of a cocktail recipe. These details typically include the quantity, unit, and name of an ingredient, but they can also contain preparation instructions or garnishing details that are not directly usable in their current form for data analysis or recipe generation.\n",
    "\n",
    "**Objective**\n",
    "Our goal is to parse these strings to extract structured information that can be effectively utilized in our project. Specifically, we aim to separate the ingredient details into distinct components: quantity, unit, and ingredient name, while filtering out the non-ingredient related information."
   ]
  },
  {
   "cell_type": "markdown",
   "id": "5ad0f2ff-6239-470c-afbc-c347e7b1cdce",
   "metadata": {},
   "source": [
    "## Imports"
   ]
  },
  {
   "cell_type": "code",
   "execution_count": 17,
   "id": "503c1281-62f4-42ab-928f-e065a23e23c8",
   "metadata": {},
   "outputs": [],
   "source": [
    "import pandas as pd\n",
    "import re\n",
    "from datasets import load_dataset\n",
    "import matplotlib.pyplot as plt\n",
    "import seaborn as sns"
   ]
  },
  {
   "cell_type": "markdown",
   "id": "18316bd1-a7f5-4591-8078-cfad00a565d9",
   "metadata": {},
   "source": [
    "## Initial Data Inspection"
   ]
  },
  {
   "cell_type": "code",
   "execution_count": 18,
   "id": "0fccd88d-e54c-4df5-b6d6-3f4a7ffe9dfe",
   "metadata": {},
   "outputs": [],
   "source": [
    "# Loading the cocktail_recipes dataset\n",
    "dataset = load_dataset('brianarbuckle/cocktail_recipes')\n",
    "\n",
    "df = pd.DataFrame(dataset['train'])"
   ]
  },
  {
   "cell_type": "code",
   "execution_count": 19,
   "id": "adbbd5cb-2a48-45cf-9b9a-c9882dc438b3",
   "metadata": {},
   "outputs": [
    {
     "data": {
      "text/html": [
       "<div>\n",
       "<style scoped>\n",
       "    .dataframe tbody tr th:only-of-type {\n",
       "        vertical-align: middle;\n",
       "    }\n",
       "\n",
       "    .dataframe tbody tr th {\n",
       "        vertical-align: top;\n",
       "    }\n",
       "\n",
       "    .dataframe thead th {\n",
       "        text-align: right;\n",
       "    }\n",
       "</style>\n",
       "<table border=\"1\" class=\"dataframe\">\n",
       "  <thead>\n",
       "    <tr style=\"text-align: right;\">\n",
       "      <th></th>\n",
       "      <th>title</th>\n",
       "      <th>ingredients</th>\n",
       "      <th>directions</th>\n",
       "      <th>misc</th>\n",
       "      <th>source</th>\n",
       "      <th>ner</th>\n",
       "    </tr>\n",
       "  </thead>\n",
       "  <tbody>\n",
       "    <tr>\n",
       "      <th>0</th>\n",
       "      <td>151 Swizzle</td>\n",
       "      <td>[1.5 oz. 151-Proof Demerara Rum [Lemon Hart or...</td>\n",
       "      <td>[]</td>\n",
       "      <td>[]</td>\n",
       "      <td>Beachbum Berry Remixed</td>\n",
       "      <td>[pernod, rum]</td>\n",
       "    </tr>\n",
       "    <tr>\n",
       "      <th>1</th>\n",
       "      <td>20th Century</td>\n",
       "      <td>[The 21st Century, 2 oz. Siete Leguas Blanco T...</td>\n",
       "      <td>[shake on ice and strain into coupe , The Best...</td>\n",
       "      <td>[]</td>\n",
       "      <td>Jim Meehan</td>\n",
       "      <td>[cocchi americano, pernod, tequila]</td>\n",
       "    </tr>\n",
       "    <tr>\n",
       "      <th>2</th>\n",
       "      <td>20th Century</td>\n",
       "      <td>[1.5 oz. Plymouth Gin, 3\\/4 oz. Mari Brizard W...</td>\n",
       "      <td>[shake on ice and strain]</td>\n",
       "      <td>[]</td>\n",
       "      <td>PDT</td>\n",
       "      <td>[lillet, gin]</td>\n",
       "    </tr>\n",
       "    <tr>\n",
       "      <th>3</th>\n",
       "      <td>Abbey Cocktail</td>\n",
       "      <td>[]</td>\n",
       "      <td>[Shake liquid ingredients with ice., Strain in...</td>\n",
       "      <td>[Suggested glassware is Cocktail Glass]</td>\n",
       "      <td>The Ultimate Bar Book</td>\n",
       "      <td>[]</td>\n",
       "    </tr>\n",
       "    <tr>\n",
       "      <th>4</th>\n",
       "      <td>Absinthe Drip</td>\n",
       "      <td>[1 1/2 ounces Pernod (or other absinthe substi...</td>\n",
       "      <td>[Pour Pernod into a pousse-caf or sour glass....</td>\n",
       "      <td>[The Absinthe Drip was made famous by Toulouse...</td>\n",
       "      <td>The Ultimate Bar Book</td>\n",
       "      <td>[pernod, absinthe]</td>\n",
       "    </tr>\n",
       "  </tbody>\n",
       "</table>\n",
       "</div>"
      ],
      "text/plain": [
       "            title                                        ingredients  \\\n",
       "0     151 Swizzle  [1.5 oz. 151-Proof Demerara Rum [Lemon Hart or...   \n",
       "1    20th Century  [The 21st Century, 2 oz. Siete Leguas Blanco T...   \n",
       "2    20th Century  [1.5 oz. Plymouth Gin, 3\\/4 oz. Mari Brizard W...   \n",
       "3  Abbey Cocktail                                                 []   \n",
       "4   Absinthe Drip  [1 1/2 ounces Pernod (or other absinthe substi...   \n",
       "\n",
       "                                          directions  \\\n",
       "0                                                 []   \n",
       "1  [shake on ice and strain into coupe , The Best...   \n",
       "2                          [shake on ice and strain]   \n",
       "3  [Shake liquid ingredients with ice., Strain in...   \n",
       "4  [Pour Pernod into a pousse-caf or sour glass....   \n",
       "\n",
       "                                                misc                  source  \\\n",
       "0                                                 []  Beachbum Berry Remixed   \n",
       "1                                                 []              Jim Meehan   \n",
       "2                                                 []                     PDT   \n",
       "3            [Suggested glassware is Cocktail Glass]   The Ultimate Bar Book   \n",
       "4  [The Absinthe Drip was made famous by Toulouse...   The Ultimate Bar Book   \n",
       "\n",
       "                                   ner  \n",
       "0                        [pernod, rum]  \n",
       "1  [cocchi americano, pernod, tequila]  \n",
       "2                        [lillet, gin]  \n",
       "3                                   []  \n",
       "4                   [pernod, absinthe]  "
      ]
     },
     "execution_count": 19,
     "metadata": {},
     "output_type": "execute_result"
    }
   ],
   "source": [
    "df.head(5)"
   ]
  },
  {
   "cell_type": "code",
   "execution_count": 20,
   "id": "fbe5e3dd-0117-4513-bb35-e0078002ab7a",
   "metadata": {},
   "outputs": [
    {
     "name": "stdout",
     "output_type": "stream",
     "text": [
      "<class 'pandas.core.frame.DataFrame'>\n",
      "RangeIndex: 875 entries, 0 to 874\n",
      "Data columns (total 6 columns):\n",
      " #   Column       Non-Null Count  Dtype \n",
      "---  ------       --------------  ----- \n",
      " 0   title        875 non-null    object\n",
      " 1   ingredients  875 non-null    object\n",
      " 2   directions   875 non-null    object\n",
      " 3   misc         875 non-null    object\n",
      " 4   source       875 non-null    object\n",
      " 5   ner          875 non-null    object\n",
      "dtypes: object(6)\n",
      "memory usage: 41.1+ KB\n"
     ]
    }
   ],
   "source": [
    "df.info()"
   ]
  },
  {
   "cell_type": "code",
   "execution_count": 21,
   "id": "59c148a8-4d4f-4e2d-ad11-aae9d1208c23",
   "metadata": {},
   "outputs": [
    {
     "data": {
      "text/plain": [
       "(875, 6)"
      ]
     },
     "execution_count": 21,
     "metadata": {},
     "output_type": "execute_result"
    }
   ],
   "source": [
    "df.shape"
   ]
  },
  {
   "cell_type": "markdown",
   "id": "0c4acd67-d0eb-4186-a1b3-166d65b81342",
   "metadata": {},
   "source": [
    "# Data Cleaning"
   ]
  },
  {
   "cell_type": "markdown",
   "id": "1ba809e6-bdaa-4bd8-9767-455da0d4ef07",
   "metadata": {},
   "source": [
    "## Lowercase standardization"
   ]
  },
  {
   "cell_type": "markdown",
   "id": "2fa4fe0c-9f23-456f-8b2b-03aa5b449316",
   "metadata": {},
   "source": [
    "Here we remove adjectives and lowercase all ingredients to avoid redundancies. "
   ]
  },
  {
   "cell_type": "code",
   "execution_count": 22,
   "id": "7913bd3c-eaf5-4f69-901b-64dcaf864699",
   "metadata": {},
   "outputs": [],
   "source": [
    "def lowercase_ingredients(ingredients_list):\n",
    "    \"\"\"\n",
    "    Converts all strings within a list of ingredients to lowercase.\n",
    "\n",
    "    This function is useful for standardizing the case of all ingredient entries,\n",
    "    making the dataset more uniform for analysis or processing.\n",
    "\n",
    "    Parameters:\n",
    "    \n",
    "    ingredients_list (list): A list of ingredient strings.\n",
    "      Returns:\n",
    "    A list of ingredients with all strings converted to lowercase.\n",
    "    \"\"\"\n",
    "    # Check if ingredients_list is indeed a list; if not, return it as is\n",
    "    if not isinstance(ingredients_list, list):\n",
    "        return ingredients_list\n",
    "\n",
    "    # Convert each ingredient in the list to lowercase\n",
    "    lowercase_list = [ingredient.lower() for ingredient in ingredients_list]\n",
    "    return lowercase_list\n",
    "\n",
    "# Apply the function to the 'ingredients' column\n",
    "df['ingredients'] = df['ingredients'].apply(lowercase_ingredients)"
   ]
  },
  {
   "cell_type": "markdown",
   "id": "6060e0b2-cc18-4974-896f-5d0d4747c38c",
   "metadata": {},
   "source": [
    "## Adjective Removal"
   ]
  },
  {
   "cell_type": "markdown",
   "id": "31f1c0e0-7696-49db-a970-58891319a305",
   "metadata": {},
   "source": [
    "To eliminate ingredient redundancies, we are removing adjectives in the following code block:"
   ]
  },
  {
   "cell_type": "code",
   "execution_count": 23,
   "id": "257af2cc-205c-4c42-ad87-54f65aa198cf",
   "metadata": {},
   "outputs": [],
   "source": [
    "# Lowercase all items in the ingredient list and remove \"fresh\"\n",
    "for index, row in df.iterrows():\n",
    "    # Update the ingredients list by removing 'fresh' if it exists\n",
    "    updated_ingredients = [ingredient.replace('fresh ', '') if 'fresh ' in ingredient else ingredient for ingredient in row['ingredients']]\n",
    "    # Update the DataFrame with the modified ingredients list\n",
    "    df.at[index, 'ingredients'] = updated_ingredients"
   ]
  },
  {
   "cell_type": "markdown",
   "id": "97da6789-bed2-45af-982c-77380e863448",
   "metadata": {
    "tags": []
   },
   "source": [
    "## Deleting Empty Rows"
   ]
  },
  {
   "cell_type": "markdown",
   "id": "3f53e410-7302-4a64-84b9-121836c490b7",
   "metadata": {},
   "source": [
    "### Filtering rows where `Ingredients` is empty"
   ]
  },
  {
   "cell_type": "markdown",
   "id": "0f1e3d38-14b8-417a-a175-da6b84a8c194",
   "metadata": {},
   "source": [
    "There were two scenarios in the data, ingredients being len of 0, and ingredients being an empty string list (len of 1, being the list, but its still empty)."
   ]
  },
  {
   "cell_type": "code",
   "execution_count": 24,
   "id": "f55685ce-b660-4745-a362-591ba4e335c4",
   "metadata": {},
   "outputs": [],
   "source": [
    "# Filter rows where `ingredients` is not empty and not just an empty string list\n",
    "modified_df = df[df['ingredients'].apply(lambda x: len(x) > 0 and x != [''])].reset_index(drop=True)"
   ]
  },
  {
   "cell_type": "markdown",
   "id": "58b2c851-88e3-4bac-8ea7-66eda871fdc3",
   "metadata": {
    "tags": []
   },
   "source": [
    "## Normalization"
   ]
  },
  {
   "cell_type": "markdown",
   "id": "4b09c09f-b9cb-4689-a3ae-d9d327b975ef",
   "metadata": {},
   "source": [
    "### Ingredients Lists: Separating Combined Strings"
   ]
  },
  {
   "cell_type": "code",
   "execution_count": 25,
   "id": "772c1f21-ec07-4c3e-9052-a4cadb086513",
   "metadata": {},
   "outputs": [],
   "source": [
    "def split_combined_ingredients(ingredients_list):\n",
    "    \"\"\"\n",
    "    Splits a single-item list containing a string of ingredients separated by commas\n",
    "    into a list of individual ingredients. If the list contains more than one item or\n",
    "    if the single item does not contain a comma, the original list is returned.\n",
    "\n",
    "    This is useful for normalizing ingredients lists where all ingredients are combined\n",
    "    into a single string.\n",
    "\n",
    "    Parameters:\n",
    "    - ingredients_list: A list of ingredient(s).\n",
    "\n",
    "    Returns:\n",
    "    - A list of separated and trimmed ingredient strings.\n",
    "    \"\"\"\n",
    "    if len(ingredients_list) == 1 and ',' in ingredients_list[0]:\n",
    "        return [ingredient.strip() for ingredient in ingredients_list[0].split(', ')]\n",
    "    else:\n",
    "        return ingredients_list\n",
    "\n",
    "# Applying the function\n",
    "modified_df['ingredients'] = modified_df['ingredients'].apply(split_combined_ingredients)"
   ]
  },
  {
   "cell_type": "markdown",
   "id": "77b7ea99-901a-4496-a86c-09a27d773136",
   "metadata": {},
   "source": [
    "### Deleting ingredients listed as optional "
   ]
  },
  {
   "cell_type": "code",
   "execution_count": 26,
   "id": "c6e60862-2db0-42a5-9db5-64c26d6b3b11",
   "metadata": {},
   "outputs": [],
   "source": [
    "def filter_optional_ingredients(ingredients_list):\n",
    "    \"\"\"\n",
    "    Filters out ingredients marked as \"optional\" from a list of ingredients.\n",
    "    \n",
    "    This function iterates through a given list of ingredient strings, removing\n",
    "    any ingredient that contains the word \"optional\". The goal is to create a more\n",
    "    concise and essential list of ingredients by excluding those that are not\n",
    "    crucial to the recipe. This step is part of data cleaning to standardize\n",
    "    the ingredients data for further analysis.\n",
    "    \n",
    "    Parameters:\n",
    "    - ingredients_list: A list of strings, where each string is an ingredient.\n",
    "\n",
    "    Returns:\n",
    "    - A list of ingredient strings, excluding any marked as \"optional\".\n",
    "    \"\"\"\n",
    "    optional_keyword = 'optional'\n",
    "    filtered_list = [ingredient for ingredient in ingredients_list if optional_keyword not in ingredient.lower()]\n",
    "    return filtered_list\n",
    "\n",
    "# Apply the filtering function to the 'ingredients' column\n",
    "modified_df['ingredients'] = modified_df['ingredients'].apply(filter_optional_ingredients)\n"
   ]
  },
  {
   "cell_type": "markdown",
   "id": "a4b0e08d-803a-49ee-afdc-38d69036a6cc",
   "metadata": {},
   "source": [
    "### Deleting steps in `ingredients` that are not usable"
   ]
  },
  {
   "cell_type": "code",
   "execution_count": 27,
   "id": "2dff4428-d388-4770-8997-c45d72844170",
   "metadata": {},
   "outputs": [],
   "source": [
    "def delete_row_at(df, row_index):\n",
    "    \"\"\"\n",
    "    Removes a specified row from the DataFrame.\n",
    "\n",
    "    Parameters:\n",
    "    - df (DataFrame): The DataFrame containing the data.\n",
    "    - row_index (int): The index of the row to remove.\n",
    "\n",
    "    Returns:\n",
    "    - None; modifies the DataFrame in place.\n",
    "    \"\"\"\n",
    "    # Ensure the row_index is within the DataFrame's range\n",
    "    if row_index < 0 or row_index >= len(df):\n",
    "        print(\"Row index is out of DataFrame's range.\")\n",
    "        return\n",
    "    \n",
    "    # Drop the specified row without resetting the index\n",
    "    df.drop(index=row_index, inplace=True)"
   ]
  },
  {
   "cell_type": "code",
   "execution_count": 28,
   "id": "acaffb70-8812-449a-99c9-a3e78e3b9238",
   "metadata": {},
   "outputs": [],
   "source": [
    "def delete_ingredients_at_steps(df, row_index, ingredient_steps):\n",
    "    \"\"\"\n",
    "    Removes ingredients at specified steps (indices) from the list of ingredients\n",
    "    for a given row in the DataFrame.\n",
    "\n",
    "    Parameters:\n",
    "    - df (DataFrame): The DataFrame containing the recipe information.\n",
    "    - row_index (int): The index of the row from which to remove the ingredients.\n",
    "    - ingredient_steps (list of int): The indices of the ingredients to remove within the ingredients list.\n",
    "    \n",
    "    Returns:\n",
    "    - None; modifies the DataFrame in place.\n",
    "    \"\"\"\n",
    "    # Ensure the row_index is within the DataFrame's range\n",
    "    if row_index < 0 or row_index >= len(df):\n",
    "        print(\"Row index is out of DataFrame's range.\")\n",
    "        return\n",
    "    \n",
    "    # Get the current list of ingredients for the specified row\n",
    "    ingredients_list = df.at[row_index, 'ingredients']\n",
    "    \n",
    "    # Check if ingredient_steps is a single integer, wrap it in a list\n",
    "    if isinstance(ingredient_steps, int):\n",
    "        ingredient_steps = [ingredient_steps]\n",
    "\n",
    "    # Ensure ingredients_list is a list\n",
    "    if not isinstance(ingredients_list, list):\n",
    "        print(\"Ingredients are not in list format for the specified row.\")\n",
    "        return\n",
    "    \n",
    "    # Remove the ingredients at the specified steps\n",
    "    # Sort the indices in reverse order to avoid index shift during deletion\n",
    "    for step in sorted(ingredient_steps, reverse=True):\n",
    "        # Check each step's validity before attempting to delete\n",
    "        if step < 0 or step >= len(ingredients_list):\n",
    "            print(f\"Ingredient step {step} is out of range and will not be deleted.\")\n",
    "            continue\n",
    "        del ingredients_list[step]\n",
    "    \n",
    "    # Update the DataFrame in place\n",
    "    df.at[row_index, 'ingredients'] = ingredients_list"
   ]
  },
  {
   "cell_type": "markdown",
   "id": "a3fb1218-2d89-48d7-aca7-7f9a1c9dbcfb",
   "metadata": {},
   "source": [
    "We will be utilizing these two functions in order to delete entries in `ingredients`, or entire rows of the `modified_df` "
   ]
  },
  {
   "cell_type": "code",
   "execution_count": 197,
   "id": "80b7c902-d40f-47ee-bfbf-a2405aa55eac",
   "metadata": {},
   "outputs": [],
   "source": [
    "i = 400 # Put in starting index for session"
   ]
  },
  {
   "cell_type": "code",
   "execution_count": 196,
   "id": "438c2490-417b-432a-8629-4b203ab1d76e",
   "metadata": {},
   "outputs": [
    {
     "name": "stdout",
     "output_type": "stream",
     "text": [
      "Index 401\n",
      "['3\\\\/4 applejack', '1\\\\/4 grenadine', 'juice of 1\\\\/2 lemon']\n",
      "\n",
      "\n",
      "delete_ingredients_at_steps(modified_df, 401, [2]) #\n",
      "\n",
      "delete_row_at(modified_df, 401) #\n"
     ]
    }
   ],
   "source": [
    "# Use this to check row [n] of modified_df['ingredients']\n",
    "print(f\"Index {i}\")\n",
    "ingredients = modified_df['ingredients'][i]\n",
    "print(ingredients)\n",
    "\n",
    "\n",
    "# Display the function calls with the dynamic length of the ingredients list\n",
    "print(f\"\\n\\ndelete_ingredients_at_steps(modified_df, {i}, [{len(ingredients)-1}]) #\") # Assuming you want to pass the length directly\n",
    "print(f\"\\ndelete_row_at(modified_df, {i}) #\")\n",
    "\n",
    "i += 1"
   ]
  },
  {
   "cell_type": "code",
   "execution_count": null,
   "id": "8a73df99-0f4f-440f-b9c1-fbcb4168db70",
   "metadata": {},
   "outputs": [],
   "source": [
    "# Got these working\n",
    "delete_ingredients_at_steps(modified_df, 0, [6, 7])\n",
    "delete_ingredients_at_steps(modified_df, 1, [0,4])\n",
    "delete_ingredients_at_steps(modified_df, 5, [6,7])\n",
    "delete_ingredients_at_steps(modified_df, 6, [7])\n",
    "delete_row_at(modified_df, 7)\n",
    "delete_row_at(modified_df, 8)\n",
    "delete_row_at(modified_df, 10)\n",
    "\n",
    "delete_row_at(modified_df, 13)\n",
    "delete_ingredients_at_steps(modified_df, 15, [3,4,5,6,7,8,9,10,11]) # commentary steps\n",
    "delete_row_at(modified_df, 16) # recipie is in parts (3/4 dry gin, 1/4 yellow chartreuse)\n",
    "delete_row_at(modified_df, 17) # odd steps, seems like steps w/o ingredients\n",
    "\n",
    "delete_ingredients_at_steps(modified_df, 20, [3]) # 'shake on ice'\n",
    "delete_ingredients_at_steps(modified_df, 21, [3]) # 'From'\n",
    "delete_ingredients_at_steps(modified_df, 22, [3,4]) # Shake on ice and strain, garnish with pineapple leaf\n",
    "\n",
    "delete_ingredients_at_steps(modified_df, 33, [3,4])\n",
    "delete_row_at(modified_df, 34)\n",
    "delete_ingredients_at_steps(modified_df, 36, [4])\n",
    "delete_ingredients_at_steps(modified_df, 37, [4])\n",
    "\n",
    "delete_row_at(modified_df,41) # substitute x ingredient with y\n",
    "# delete_ingredients_at_steps(modified_df, 43, [7,8]) # lime wedge and avocado slice\n",
    "\n",
    "delete_row_at(modified_df,51) # Not enough information\n",
    "delete_ingredients_at_steps(modified_df,53,[4])\n",
    "# row 57 is a bit weird, it has both fractions and ounces. We can keep it if it parses properly\n",
    "\n",
    "delete_row_at(modified_df, 61) # parts\n",
    "delete_ingredients_at_steps(modified_df, 64, [0]) #name\n",
    "delete_row_at(modified_df, 65) #no ingredients\n",
    "delete_ingredients_at_steps(modified_df, 66, [0]) #name\n",
    "delete_row_at(modified_df, 68) #no ingredients\n",
    "\n",
    "delete_row_at(modified_df, 71) # fraction\n",
    "\n",
    "delete_row_at(modified_df, 80) # fraction\n",
    "delete_ingredients_at_steps(modified_df, 82, [0]) # cocktail introduction\n",
    "delete_ingredients_at_steps(modified_df, 84, [2]) # Descriptive step\n",
    "delete_row_at(modified_df, 86) # x but with y \n",
    "\n",
    "delete_row_at(modified_df, 90) # x but with y \n",
    "delete_row_at(modified_df, 92) # Recipe in parts \n",
    "delete_row_at(modified_df, 93) # Fraction\n",
    "delete_row_at(modified_df, 97) # Fraction\n",
    "delete_ingredients_at_steps(modified_df, 98, [0]) # Descriptive step; steps also include \"2 to 3 ounces, 2 to 3 dashes etc.\n",
    "delete_row_at(modified_df, 99) # x but with y \n",
    "\n",
    "delete_ingredients_at_steps(modified_df, 102, [0]) #says its a variation\n",
    "delete_row_at(modified_df, 108) # Recipie in parts\n",
    "delete_ingredients_at_steps(modified_df, 109, [3]) # 'stir and strain'\n",
    "\n",
    "delete_row_at(modified_df, 111) # weird steps no ingredient\n",
    "delete_row_at(modified_df, 113) # no ingredients\n",
    "delete_ingredients_at_steps(modified_df, 115, [0]) # flavour text\n",
    "delete_row_at(modified_df, 117) # X but with Y\n",
    "delete_row_at(modified_df, 119) # Parts\n",
    "\n",
    "delete_ingredients_at_steps(modified_df, 122, [0]) # description\n",
    "delete_row_at(modified_df, 127) # X but with Y\n",
    "\n",
    "delete_ingredients_at_steps(modified_df, 131, [0]) # Descriptive step\n",
    "delete_ingredients_at_steps(modified_df, 135, [4]) # Descriptive step\n",
    "delete_row_at(modified_df, 137) # Recipe in parts \n",
    "delete_row_at(modified_df, 139) # Fraction\n",
    "\n",
    "delete_row_at(modified_df, 140) # Fraction\n",
    "delete_row_at(modified_df, 141) # history lesson\n",
    "delete_row_at(modified_df, 145) # Recipe in parts; also has dashes of ingredients; might need to revisit\n",
    "delete_ingredients_at_steps(modified_df, 147, [0]) # Descriptive step\n",
    "delete_row_at(modified_df, 148) # Fraction\n",
    "\n",
    "delete_row_at(modified_df, 152) # Contains ingredients but written in descriptive language\n",
    "delete_ingredients_at_steps(modified_df, 156, [0]) # Descriptive step \n",
    "delete_row_at(modified_df, 158) # Recipe x but with y ingredient\n",
    "delete_row_at(modified_df, 159) # Recipe x but with y ingredient\n",
    "\n",
    "delete_row_at(modified_df, 162) # Fraction\n",
    "delete_row_at(modified_df, 164) # Recipe x but with y ingredient\n",
    "delete_row_at(modified_df, 165) # Contains ingredients but written in descriptive language\n",
    "delete_row_at(modified_df, 168) # Recipe x but with y ingredient\n",
    "delete_row_at(modified_df, 169) # Recipe x but with y ingredient\n",
    "\n",
    "delete_row_at(modified_df, 184) # Parts\n",
    "delete_row_at(modified_df, 187) # Recipie x but with y ingredient\n",
    "\n",
    "delete_row_at(modified_df, 193) # Parts\n",
    "delete_row_at(modified_df, 196) # Weird recipie format, can manually fix if we want\n",
    "delete_row_at(modified_df, 198) # Parts\n",
    "\n",
    "delete_row_at(modified_df, 200) #this is not a recipie\n",
    "delete_row_at(modified_df, 201) # Parts + index 1/2/3 not ingredients\n",
    "delete_row_at(modified_df, 204) # X but with Y\n",
    "delete_row_at(modified_df, 207) # Parts \n",
    "delete_ingredients_at_steps(modified_df, 208, [5])\n",
    "delete_ingredients_at_steps(modified_df, 209, [5,6])\n",
    "\n",
    "delete_ingredients_at_steps(modified_df, 210, [5]) # not ingredient step\n",
    "delete_ingredients_at_steps(modified_df, 211, [3]) # COULD FIX, 'few drops' as unit & measurement\n",
    "delete_row_at(modified_df, 212) # Parts\n",
    "delete_row_at(modified_df, 215) # Parts\n",
    "delete_ingredients_at_steps(modified_df, 218, [0]) # history of creation\n",
    "\n",
    "delete_ingredients_at_steps(modified_df, 210, [5]) # not ingredient step\n",
    "delete_ingredients_at_steps(modified_df, 211, [3]) # COULD FIX, 'few drops' as unit & measurement\n",
    "delete_row_at(modified_df, 212) # Parts\n",
    "delete_row_at(modified_df, 215) # Parts\n",
    "delete_ingredients_at_steps(modified_df, 218, [0]) # history of creation\n",
    "\n",
    "delete_ingredients_at_steps(modified_df, 220, [0]) # alternate name\n",
    "delete_ingredients_at_steps(modified_df, 224, [0]) # inspired by..\n",
    "delete_row_at(modified_df, 225) # this is not a recipie\n",
    "delete_row_at(modified_df, 228) # Parts\n",
    "delete_row_at(modified_df, 228) # Parts, BUT WINE GLASS NOT COCKTAIL GLASS!\n",
    "\n",
    "delete_ingredients_at_steps(modified_df, 230, [4]) # Rinse glass w/ \n",
    "delete_ingredidelete_row_at(modified_df, 234) # X but with Y\n",
    "delete_ingredients_at_steps(modified_df, 236, [3,4]) #re-lists ingredient 0, and empty value\n",
    "delete_ingredidelete_row_at(modified_df, 239) # X but with Y\n",
    "\n",
    "delete_ingredients_at_steps(modified_df, 240, [0]) # lore\n",
    "delete_row_at(modified_df, 241) # parts\n",
    "delete_ingredients_at_steps(modified_df, 242, [3]) # shake on ice and strain\n",
    "delete_ingredients_at_steps(modified_df, 245, [3]) # shake on ice and strain\n",
    "delete_row_at(modified_df, 248) # X but with Y\n",
    "\n",
    "delete_row_at(modified_df, 250) # doesent contain ingredients\n",
    "delete_row_at(modified_df, 253) # history\n",
    "delete_row_at(modified_df, 254) # parts\n",
    "delete_ingredients_at_steps(modified_df, 258, [0]) # history \n",
    "\n",
    "delete_row_at(modified_df, 260) # Parts\n",
    "delete_row_at(modified_df, 261) # X but with Y\n",
    "delete_row_at(modified_df, 266) # X but with Y\n",
    "delete_row_at(modified_df, 268) # THIS IS FIXABLE, ITS JUST NOT LISTED RIGHT, MANUAL FIX REQ\n",
    "delete_row_at(modified_df, 269) # X but with Y\n",
    "\n",
    "delete_ingredients_at_steps(modified_df, 271, [0,1]) # History\n",
    "delete_row_at(modified_df, 272) # [0] is parts, rest is history\n",
    "delete_row_at(modified_df, 273) # X but with Y\n",
    "delete_row_at(modified_df, 274) # X but with Y\n",
    "delete_row_at(modified_df, 277) # X but with Y, salvagable\n",
    "delete_row_at(modified_df, 278) # Manual fix required (indexed wrong, flavor text. but has ingredients)\n",
    "\n",
    "delete_ingredients_at_steps(modified_df, 280, [7,8,9,10]) # Descriptive step\n",
    "delete_ingredients_at_steps(modified_df, 282, [4]) # Descriptive step\n",
    "delete_row_at(modified_df, 283) # X but Y\n",
    "delete_row_at(modified_df, 285) # x but y + weird description\n",
    "delete_row_at(modified_df, 286) # X but y\n",
    "delete_row_at(modified_df, 288) # parts + description \n",
    "delete_row_at(modified_df, 289) # manual fix required, can salvage\n",
    "\n",
    "delete_row_at(modified_df, 290) # Parts\n",
    "delete_row_at(modified_df, 298) # X but Y\n",
    "\n",
    "delete_row_at(modified_df, 300) # delete index 0, full recipie is in index 1 need to split it up MANUAL FIX REQ\n",
    "delete_ingredients_at_steps(modified_df, 301, [0]) # saying name alternative\n",
    "delete_row_at(modified_df, 304) # MANUAL FIX REQUIRED, entire recipie in index 3, measurement not placed normally\n",
    "delete_row_at(modified_df, 306) # full recipie in [0]\n",
    "delete_row_at(modified_df, 309) # X but Y\n",
    "\n",
    "delete_row_at(modified_df, 312) # x but y\n",
    "delete_row_at(modified_df, 316) # parts\n",
    "\n",
    "delete_row_at(modified_df, 321) # no ingredients\n",
    "delete_ingredients_at_steps(modified_df, 322, [0,1,2,3,4]) # history\n",
    "delete_row_at(modified_df, 324) # x but y\n",
    "delete_row_at(modified_df, 327) # no recipie\n",
    "delete_row_at(modified_df, 328) # x but y\n",
    "delete_row_at(modified_df, 329) # x but y\n",
    "\n",
    "delete_ingredients_at_steps(modified_df, 332, [3]) # stir\n",
    "delete_row_at(modified_df, 333) # a or b, not really a recipie\n",
    "delete_ingredients_at_steps(modified_df, 334, [2,3,6]) # not ingredient steps\n",
    "delete_row_at(modified_df, 338) # no ingredients\n",
    "\n",
    "delete_row_at(modified_df, 340) #x but with y\n",
    "delete_ingredients_at_steps(modified_df, 341, [0]) #name\n",
    "delete_row_at(modified_df, 344) #x but with y  \n",
    "delete_row_at(modified_df, 345) #x but with y\n",
    "delete_row_at(modified_df, 347) #x but with y \n",
    "delete_ingredients_at_steps(modified_df, 348, [0]) #name/description\n",
    "delete_ingredients_at_steps(modified_df, 349, [0]) #name/description\n",
    "\n",
    "delete_row_at(modified_df, 350) #duplicate\n",
    "delete_ingredients_at_steps(modified_df, 353, [0]) #name/description\n",
    "delete_row_at(modified_df, 354) #x but with y\n",
    "delete_ingredients_at_steps(modified_df, 355, [0]) #name/description\n",
    "delete_row_at(modified_df, 356) # Might parse incorrectly\n",
    "delete_row_at(modified_df, 358) #fractions\n",
    "\n",
    "delete_ingredients_at_steps(modified_df, 360, [0,9]) #name/description\n",
    "delete_row_at(modified_df, 361) # Manual fix required\n",
    "delete_row_at(modified_df, 364) # Manual fix required\n",
    "delete_row_at(modified_df, 368) #fractions\n",
    "delete_ingredients_at_steps(modified_df, 369, [2,3]) #Empty steps\n",
    "\n",
    "delete_ingredients_at_steps(modified_df, 370, [5]) #This is just funny\n",
    "delete_ingredients_at_steps(modified_df, 372, [4]) #Ice ingredient\n",
    "delete_ingredients_at_steps(modified_df, 374, [4,5,6]) #Mix/dilute steps\n",
    "delete_ingredients_at_steps(modified_df, 375, [3]) #Mix/dilute step\n",
    "delete_ingredients_at_steps(modified_df, 377, [5,6,7]) #Recipe steps\n",
    "delete_ingredients_at_steps(modified_df, 378, [2]) #Recipe step\n",
    "\n",
    "delete_row_at(modified_df, 380) #Disgusting cocktail\n",
    "delete_ingredients_at_steps(modified_df, 383, [0]) #name\n",
    "delete_ingredients_at_steps(modified_df, 384, [0]) #name\n",
    "delete_ingredients_at_steps(modified_df, 387, [5]) #rinse step\n",
    "delete_row_at(modified_df, 389) #not enough info for other ingredients\n",
    "\n",
    "delete_row_at(modified_df, 393) #x but with y \n",
    "delete_ingredients_at_steps(modified_df, 394, [3,4]) #Recipe steps\n",
    "delete_row_at(modified_df, 395) #x but with y\n",
    "delete_ingredients_at_steps(modified_df, 396, [0]) #name\n",
    "delete_row_at(modified_df, 397) #no info\n",
    "delete_row_at(modified_df, 399) #parts\n",
    "\n",
    "delete_row_at(modified_df, 401) # Parts\n",
    "delete_row_at(modified_df, 406) # Parts\n",
    "\n",
    "delete_row_at(modified_df, 410) # Weird steps\n",
    "\n",
    "delete_row_at(modified_df, 420) # Suspected measurement errors\n",
    "delete_row_at(modified_df, 422) # X but Y\n",
    "delete_row_at(modified_df, 423) # X but Y\n",
    "delete_row_at(modified_df, 424) # X but Y\n",
    "delete_row_at(modified_df, 425) # X but Y\n",
    "\n",
    "delete_row_at(modified_df, 430) # X but Y\n",
    "delete_row_at(modified_df, 431) # X but y\n",
    "\n",
    "delete_ingredients_at_steps(modified_df, 443, [0]) # drink name\n",
    "delete_ingredients_at_steps(modified_df, 445, [0]) # drink name, says its a variation on below\n",
    "delete_ingredients_at_steps(modified_df, 446, [4]) # drink name, says its a variation on above\n",
    "delete_row_at(modified_df, 447) # X but Y\n",
    "\n",
    "elete_ingredients_at_steps(modified_df, 451, [0]) # description\n",
    "delete_ingredients_at_steps(modified_df, 452, [0]) # description\n",
    "delete_ingredients_at_steps(modified_df, 459, [5]) # shake on ice\n",
    "\n",
    "delete_ingredients_at_steps(modified_df, 462, [0,10,11]) # Description, empty spaces\n",
    "delete_row_at(modified_df, 464) # no recipie listed\n",
    "delete_row_at(modified_df, 468) # X but Y\n",
    "delete_ingredients_at_steps(modified_df, 469, [0]) # name"
   ]
  },
  {
   "cell_type": "code",
   "execution_count": null,
   "id": "3396be70-1af9-40e9-bd5f-7365c16b3c67",
   "metadata": {},
   "outputs": [],
   "source": [
    "# Reset the index of the DataFrame, dropping the old index\n",
    "modified_df.reset_index(drop=True, inplace=True)"
   ]
  },
  {
   "cell_type": "markdown",
   "id": "cec81342-6e18-4c27-8ec4-9da20c064433",
   "metadata": {},
   "source": [
    "# Parsing"
   ]
  },
  {
   "cell_type": "code",
   "execution_count": null,
   "id": "c93c33c8-6223-40fe-bb26-a54eacea3dc5",
   "metadata": {},
   "outputs": [],
   "source": [
    "def parse_ingredient(ingredient_str, step_index):\n",
    "    \"\"\"\n",
    "    Parses a single ingredient string into its parts: quantity, unit, and ingredient name,\n",
    "    while also correcting known formatting issues and standardizing units and ingredient names.\n",
    "    The function lowers the case of all items in the ingredient list, removes the term \"fresh\",\n",
    "    and eliminates backslashes. It then applies a regular expression to extract the quantity, unit,\n",
    "    and ingredient name from the cleaned string.\n",
    "\n",
    "    Parameters:\n",
    "    - ingredient_str (str): The ingredient string to be parsed.\n",
    "    - step_index (int): The step index or sequence number of the ingredient in the recipe.\n",
    "\n",
    "    Returns:\n",
    "    - A dictionary with the parsed components of the ingredient: 'quantity', 'unit', 'ingredient',\n",
    "      and 'ingredient_step'. If the string does not match the expected pattern, 'quantity' and 'unit'\n",
    "      are returned as None, and 'ingredient' contains the original (corrected) string with 'ingredient_step'\n",
    "      reflecting the passed step_index.\n",
    "\n",
    "    The function is designed to handle a variety of ingredient formats by using a comprehensive regular\n",
    "    expression. It accounts for different measurement units and formats, aiming to standardize the data\n",
    "    for further processing or analysis.\n",
    "    \"\"\"\n",
    "    \n",
    "    # Pre-process to correct known formatting issues\n",
    "    corrected_str = re.sub(r'\\\\', '', ingredient_str)  # Remove backslashes that might interfere with parsing\n",
    "    corrected_str = corrected_str.strip()\n",
    "    \n",
    "    pattern = re.compile(\n",
    "        r'(?P<quantity>\\d+\\s*\\d*\\/\\d+|\\d*\\.\\d+|\\d+)?\\s*'  # Capture quantities, fractions, decimals\n",
    "        r'(?P<unit>oz|ounces?|tsp|teaspoons?|tablespoons?|tbl|tbs|cups?|pints?|quarts?|gallons?|lbs?|pounds?|ml|mL|liters?|dash|dashes|drops?|pinch|pinches|qt|qts|cl)?\\.?\\s*' \n",
    "        r'(?P<ingredient>.+)', re.IGNORECASE)\n",
    "    \n",
    "    match = pattern.match(corrected_str)\n",
    "    \n",
    "    if match:\n",
    "        # Normalize unit names\n",
    "        unit = match.group('unit')\n",
    "        if unit:\n",
    "            unit = unit.lower()\n",
    "            if unit in ['tsp', 'teaspoons']:\n",
    "                unit = 'tsp'\n",
    "            elif unit in ['tbl', 'tbs', 'tablespoons']:\n",
    "                unit = 'tbsp'\n",
    "            elif unit in ['pounds', 'pound', 'lbs']:\n",
    "                unit = 'lb'\n",
    "            elif unit in ['gallons', 'gallon']:\n",
    "                unit = 'gal'\n",
    "            elif unit in ['ounces', 'ounce', 'oz']:\n",
    "                unit = 'oz'\n",
    "            elif unit in ['milliliters', 'millilitre', 'ml', 'mL']:\n",
    "                unit = 'ml'\n",
    "            elif unit in ['liters', 'litre']:\n",
    "                unit = 'l'\n",
    "            elif unit in ['qt', 'qts']:  \n",
    "                unit = 'qt'\n",
    "        \n",
    "        return {\n",
    "            'quantity': match.group('quantity'), \n",
    "            'unit': unit, \n",
    "            'ingredient': match.group('ingredient').strip(), \n",
    "            'ingredient_step': step_index\n",
    "        }\n",
    "    else:\n",
    "        # Handling cases that don't fit the expected pattern\n",
    "        return {\n",
    "            'quantity': None, \n",
    "            'unit': None, \n",
    "            'ingredient': corrected_str, \n",
    "            'ingredient_step': step_index\n",
    "        }"
   ]
  },
  {
   "cell_type": "code",
   "execution_count": null,
   "id": "b28d9bcf-57d3-4ea3-89e3-31463ff26882",
   "metadata": {},
   "outputs": [],
   "source": [
    "parsed_ingredients_list = []"
   ]
  },
  {
   "cell_type": "code",
   "execution_count": null,
   "id": "4c6406dc-bffb-40f7-a047-142976003607",
   "metadata": {},
   "outputs": [],
   "source": [
    "for index, row in modified_df.iterrows():\n",
    "    for idx, ingredient in enumerate(row['ingredients']):\n",
    "        parsed_ingredient = parse_ingredient(ingredient, idx)\n",
    "        parsed_ingredient['recipe_id'] = index  # Adding the recipe ID to each ingredient\n",
    "        parsed_ingredients_list.append(parsed_ingredient)\n",
    "\n",
    "# Convert the list of dictionaries into a DataFrame\n",
    "parsed_df = pd.DataFrame(parsed_ingredients_list)"
   ]
  },
  {
   "cell_type": "code",
   "execution_count": null,
   "id": "89015fea-f2f1-4a1e-986c-d8162bb78929",
   "metadata": {},
   "outputs": [],
   "source": [
    "parsed_df"
   ]
  },
  {
   "cell_type": "markdown",
   "id": "cfe6dafc-8ea4-4435-b9d7-7821163af5c6",
   "metadata": {},
   "source": [
    "# Post-Parsing Analysis"
   ]
  },
  {
   "cell_type": "markdown",
   "id": "84e302c8-44ad-4a3d-9185-f33e8b753dda",
   "metadata": {},
   "source": [
    "## Tools to Inspect"
   ]
  },
  {
   "cell_type": "markdown",
   "id": "516321d4-f905-48e5-992d-2a1c22b5d7e4",
   "metadata": {},
   "source": [
    "### `inspect_row` function"
   ]
  },
  {
   "cell_type": "code",
   "execution_count": null,
   "id": "9165a025-7cab-4cfa-8f28-a411a51218d0",
   "metadata": {},
   "outputs": [],
   "source": [
    "def inspect_row(modified_df, parsed_df, row_index):\n",
    "    \"\"\"\n",
    "    Prints the title, ingredients, and directions of a given row in the modified DataFrame,\n",
    "    and then prints all corresponding parsed ingredient rows from the parsed DataFrame.\n",
    "    \n",
    "    Parameters:\n",
    "    - modified_df: pandas DataFrame containing the original cocktail data.\n",
    "    - parsed_df: pandas DataFrame containing the parsed ingredients data.\n",
    "    - row_index: Integer index of the row to inspect in modified_df and to match in parsed_df.\n",
    "    \"\"\"\n",
    "    # Print details from the modified DataFrame\n",
    "    print(f\"Title: {modified_df.loc[row_index, 'title']}\\n\")\n",
    "    print(\"Ingredients:\")\n",
    "    for ingredient in modified_df.loc[row_index, 'ingredients']:\n",
    "        print(f\"- {ingredient}\")\n",
    "    print(\"\\nDirections:\")\n",
    "    for direction in modified_df.loc[row_index, 'directions']:\n",
    "        print(f\"- {direction}\")\n",
    "    \n",
    "    # Print corresponding rows from the parsed DataFrame\n",
    "    print(\"\\nParsed Ingredients:\")\n",
    "    parsed_rows = parsed_df[parsed_df['recipe_id'] == row_index]\n",
    "    if not parsed_rows.empty:\n",
    "        print(parsed_rows.to_string(index=False))\n",
    "    else:\n",
    "        print(\"No parsed ingredients found for this recipe.\")"
   ]
  },
  {
   "cell_type": "code",
   "execution_count": null,
   "id": "0d12bbd2-4ff6-4828-bbdc-04bfa3b22272",
   "metadata": {},
   "outputs": [],
   "source": [
    "inspect_row(modified_df, parsed_df, 0)"
   ]
  },
  {
   "cell_type": "markdown",
   "id": "9abc6c74-ab71-43e1-9003-905c41e958cb",
   "metadata": {},
   "source": [
    "### none_rows call"
   ]
  },
  {
   "cell_type": "code",
   "execution_count": null,
   "id": "b2b68c88-30f6-4c7d-8015-6acd27aa4ef8",
   "metadata": {},
   "outputs": [],
   "source": [
    "# Filter rows and reset index \n",
    "none_rows = parsed_df.loc[parsed_df['quantity'].isnull() | parsed_df['unit'].isnull()].reset_index(drop=True)\n",
    "\n",
    "# Display the filtered dataframe\n",
    "none_rows"
   ]
  },
  {
   "cell_type": "code",
   "execution_count": null,
   "id": "0b52f9a5-c96d-4aec-a5a8-eb8bc808b23f",
   "metadata": {},
   "outputs": [],
   "source": [
    "none_rows.loc[none_rows['ingredient_step'] == 0]"
   ]
  },
  {
   "cell_type": "code",
   "execution_count": null,
   "id": "c908b504-e6bd-4a60-9032-a9497ebb8b22",
   "metadata": {},
   "outputs": [],
   "source": [
    "none_rows.loc[none_rows['ingredient_step'] == 0]"
   ]
  },
  {
   "cell_type": "markdown",
   "id": "c52201cf-e24e-42ec-b9d6-b51037875db9",
   "metadata": {},
   "source": [
    "### Future tools/calls to look into problems"
   ]
  },
  {
   "cell_type": "markdown",
   "id": "71f34d85-2333-4754-b24d-729b9bbcaa54",
   "metadata": {},
   "source": [
    "Can leave this empty for now, just putting in a space here for futureproofing the cleanliness"
   ]
  },
  {
   "cell_type": "markdown",
   "id": "cd84b1c1-ec60-49f7-a59b-00b62a102ac7",
   "metadata": {},
   "source": [
    "# Save completed parsed_df"
   ]
  },
  {
   "cell_type": "code",
   "execution_count": null,
   "id": "56d638f8-f38b-4744-8a27-a2c72c44b434",
   "metadata": {},
   "outputs": [],
   "source": [
    "# Save parsed_df to a CSV file\n",
    "parsed_df.to_csv('clean_df.csv', index=False)"
   ]
  },
  {
   "cell_type": "code",
   "execution_count": null,
   "id": "9626133c-62e5-4298-9e44-d943757185c7",
   "metadata": {},
   "outputs": [],
   "source": []
  }
 ],
 "metadata": {
  "kernelspec": {
   "display_name": "Python 3 (ipykernel)",
   "language": "python",
   "name": "python3"
  },
  "language_info": {
   "codemirror_mode": {
    "name": "ipython",
    "version": 3
   },
   "file_extension": ".py",
   "mimetype": "text/x-python",
   "name": "python",
   "nbconvert_exporter": "python",
   "pygments_lexer": "ipython3",
   "version": "3.8.19"
  }
 },
 "nbformat": 4,
 "nbformat_minor": 5
}
