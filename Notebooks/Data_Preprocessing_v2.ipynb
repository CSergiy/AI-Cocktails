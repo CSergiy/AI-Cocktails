{
 "cells": [
  {
   "cell_type": "markdown",
   "id": "b746915a-20fb-462b-8b69-a6776d073fd0",
   "metadata": {},
   "source": [
    "# Intro"
   ]
  },
  {
   "cell_type": "markdown",
   "id": "b70e43ab-ac50-4314-83f6-7cfe5f2d3ea8",
   "metadata": {},
   "source": [
    "The initial dataset being sourced is from the HuggingFace library, (https://huggingface.co/datasets/brianarbuckle/cocktail_recipes)\n",
    "\n",
    "This initial dataset contains columns `title`, `ingredients`, `directions`, `misc`, `source`, and `ner`."
   ]
  },
  {
   "cell_type": "markdown",
   "id": "ddc21d0f-7e21-43cc-b434-18f86298369a",
   "metadata": {},
   "source": [
    "**Overview**\n",
    "The 'Ingredients' column of our dataset presents a unique challenge. It consists of objects, each being a list of strings, where each string details a part of a cocktail recipe. These details typically include the quantity, unit, and name of an ingredient, but they can also contain preparation instructions or garnishing details that are not directly usable in their current form for data analysis or recipe generation.\n",
    "\n",
    "**Objective**\n",
    "Our goal is to parse these strings to extract structured information that can be effectively utilized in our project. Specifically, we aim to separate the ingredient details into distinct components: quantity, unit, and ingredient name, while filtering out the non-ingredient related information."
   ]
  },
  {
   "cell_type": "markdown",
   "id": "5ad0f2ff-6239-470c-afbc-c347e7b1cdce",
   "metadata": {},
   "source": [
    "## Imports"
   ]
  },
  {
   "cell_type": "code",
   "execution_count": 7,
   "id": "503c1281-62f4-42ab-928f-e065a23e23c8",
   "metadata": {},
   "outputs": [],
   "source": [
    "import pandas as pd\n",
    "import re\n",
    "from datasets import load_dataset\n",
    "import matplotlib.pyplot as plt\n",
    "import seaborn as sns"
   ]
  },
  {
   "cell_type": "markdown",
   "id": "18316bd1-a7f5-4591-8078-cfad00a565d9",
   "metadata": {},
   "source": [
    "## Initial Data Inspection"
   ]
  },
  {
   "cell_type": "code",
   "execution_count": 8,
   "id": "0fccd88d-e54c-4df5-b6d6-3f4a7ffe9dfe",
   "metadata": {},
   "outputs": [],
   "source": [
    "# Loading the cocktail_recipes dataset\n",
    "dataset = load_dataset('brianarbuckle/cocktail_recipes')\n",
    "\n",
    "df = pd.DataFrame(dataset['train'])"
   ]
  },
  {
   "cell_type": "code",
   "execution_count": 9,
   "id": "adbbd5cb-2a48-45cf-9b9a-c9882dc438b3",
   "metadata": {},
   "outputs": [
    {
     "data": {
      "text/html": [
       "<div>\n",
       "<style scoped>\n",
       "    .dataframe tbody tr th:only-of-type {\n",
       "        vertical-align: middle;\n",
       "    }\n",
       "\n",
       "    .dataframe tbody tr th {\n",
       "        vertical-align: top;\n",
       "    }\n",
       "\n",
       "    .dataframe thead th {\n",
       "        text-align: right;\n",
       "    }\n",
       "</style>\n",
       "<table border=\"1\" class=\"dataframe\">\n",
       "  <thead>\n",
       "    <tr style=\"text-align: right;\">\n",
       "      <th></th>\n",
       "      <th>title</th>\n",
       "      <th>ingredients</th>\n",
       "      <th>directions</th>\n",
       "      <th>misc</th>\n",
       "      <th>source</th>\n",
       "      <th>ner</th>\n",
       "    </tr>\n",
       "  </thead>\n",
       "  <tbody>\n",
       "    <tr>\n",
       "      <th>0</th>\n",
       "      <td>151 Swizzle</td>\n",
       "      <td>[1.5 oz. 151-Proof Demerara Rum [Lemon Hart or...</td>\n",
       "      <td>[]</td>\n",
       "      <td>[]</td>\n",
       "      <td>Beachbum Berry Remixed</td>\n",
       "      <td>[pernod, rum]</td>\n",
       "    </tr>\n",
       "    <tr>\n",
       "      <th>1</th>\n",
       "      <td>20th Century</td>\n",
       "      <td>[The 21st Century, 2 oz. Siete Leguas Blanco T...</td>\n",
       "      <td>[shake on ice and strain into coupe , The Best...</td>\n",
       "      <td>[]</td>\n",
       "      <td>Jim Meehan</td>\n",
       "      <td>[cocchi americano, pernod, tequila]</td>\n",
       "    </tr>\n",
       "    <tr>\n",
       "      <th>2</th>\n",
       "      <td>20th Century</td>\n",
       "      <td>[1.5 oz. Plymouth Gin, 3\\/4 oz. Mari Brizard W...</td>\n",
       "      <td>[shake on ice and strain]</td>\n",
       "      <td>[]</td>\n",
       "      <td>PDT</td>\n",
       "      <td>[lillet, gin]</td>\n",
       "    </tr>\n",
       "    <tr>\n",
       "      <th>3</th>\n",
       "      <td>Abbey Cocktail</td>\n",
       "      <td>[]</td>\n",
       "      <td>[Shake liquid ingredients with ice., Strain in...</td>\n",
       "      <td>[Suggested glassware is Cocktail Glass]</td>\n",
       "      <td>The Ultimate Bar Book</td>\n",
       "      <td>[]</td>\n",
       "    </tr>\n",
       "    <tr>\n",
       "      <th>4</th>\n",
       "      <td>Absinthe Drip</td>\n",
       "      <td>[1 1/2 ounces Pernod (or other absinthe substi...</td>\n",
       "      <td>[Pour Pernod into a pousse-caf or sour glass....</td>\n",
       "      <td>[The Absinthe Drip was made famous by Toulouse...</td>\n",
       "      <td>The Ultimate Bar Book</td>\n",
       "      <td>[pernod, absinthe]</td>\n",
       "    </tr>\n",
       "  </tbody>\n",
       "</table>\n",
       "</div>"
      ],
      "text/plain": [
       "            title                                        ingredients  \\\n",
       "0     151 Swizzle  [1.5 oz. 151-Proof Demerara Rum [Lemon Hart or...   \n",
       "1    20th Century  [The 21st Century, 2 oz. Siete Leguas Blanco T...   \n",
       "2    20th Century  [1.5 oz. Plymouth Gin, 3\\/4 oz. Mari Brizard W...   \n",
       "3  Abbey Cocktail                                                 []   \n",
       "4   Absinthe Drip  [1 1/2 ounces Pernod (or other absinthe substi...   \n",
       "\n",
       "                                          directions  \\\n",
       "0                                                 []   \n",
       "1  [shake on ice and strain into coupe , The Best...   \n",
       "2                          [shake on ice and strain]   \n",
       "3  [Shake liquid ingredients with ice., Strain in...   \n",
       "4  [Pour Pernod into a pousse-caf or sour glass....   \n",
       "\n",
       "                                                misc                  source  \\\n",
       "0                                                 []  Beachbum Berry Remixed   \n",
       "1                                                 []              Jim Meehan   \n",
       "2                                                 []                     PDT   \n",
       "3            [Suggested glassware is Cocktail Glass]   The Ultimate Bar Book   \n",
       "4  [The Absinthe Drip was made famous by Toulouse...   The Ultimate Bar Book   \n",
       "\n",
       "                                   ner  \n",
       "0                        [pernod, rum]  \n",
       "1  [cocchi americano, pernod, tequila]  \n",
       "2                        [lillet, gin]  \n",
       "3                                   []  \n",
       "4                   [pernod, absinthe]  "
      ]
     },
     "execution_count": 9,
     "metadata": {},
     "output_type": "execute_result"
    }
   ],
   "source": [
    "df.head(5)"
   ]
  },
  {
   "cell_type": "code",
   "execution_count": 10,
   "id": "fbe5e3dd-0117-4513-bb35-e0078002ab7a",
   "metadata": {},
   "outputs": [
    {
     "name": "stdout",
     "output_type": "stream",
     "text": [
      "<class 'pandas.core.frame.DataFrame'>\n",
      "RangeIndex: 875 entries, 0 to 874\n",
      "Data columns (total 6 columns):\n",
      " #   Column       Non-Null Count  Dtype \n",
      "---  ------       --------------  ----- \n",
      " 0   title        875 non-null    object\n",
      " 1   ingredients  875 non-null    object\n",
      " 2   directions   875 non-null    object\n",
      " 3   misc         875 non-null    object\n",
      " 4   source       875 non-null    object\n",
      " 5   ner          875 non-null    object\n",
      "dtypes: object(6)\n",
      "memory usage: 41.1+ KB\n"
     ]
    }
   ],
   "source": [
    "df.info()"
   ]
  },
  {
   "cell_type": "code",
   "execution_count": 11,
   "id": "59c148a8-4d4f-4e2d-ad11-aae9d1208c23",
   "metadata": {},
   "outputs": [
    {
     "data": {
      "text/plain": [
       "(875, 6)"
      ]
     },
     "execution_count": 11,
     "metadata": {},
     "output_type": "execute_result"
    }
   ],
   "source": [
    "df.shape"
   ]
  },
  {
   "cell_type": "markdown",
   "id": "0c4acd67-d0eb-4186-a1b3-166d65b81342",
   "metadata": {},
   "source": [
    "# Data Cleaning"
   ]
  },
  {
   "cell_type": "markdown",
   "id": "1ba809e6-bdaa-4bd8-9767-455da0d4ef07",
   "metadata": {},
   "source": [
    "## Lowercase standardization"
   ]
  },
  {
   "cell_type": "code",
   "execution_count": null,
   "id": "257af2cc-205c-4c42-ad87-54f65aa198cf",
   "metadata": {},
   "outputs": [],
   "source": []
  },
  {
   "cell_type": "markdown",
   "id": "97da6789-bed2-45af-982c-77380e863448",
   "metadata": {},
   "source": [
    "## Deleting Empty Rows"
   ]
  },
  {
   "cell_type": "markdown",
   "id": "3f53e410-7302-4a64-84b9-121836c490b7",
   "metadata": {},
   "source": [
    "### Filtering rows where `Ingredients` is empty"
   ]
  },
  {
   "cell_type": "markdown",
   "id": "0f1e3d38-14b8-417a-a175-da6b84a8c194",
   "metadata": {},
   "source": [
    "There were two scenarios in the data, ingredients being len of 0, and ingredients being an empty string list (len of 1, being the list, but its still empty)."
   ]
  },
  {
   "cell_type": "code",
   "execution_count": 12,
   "id": "f55685ce-b660-4745-a362-591ba4e335c4",
   "metadata": {},
   "outputs": [],
   "source": [
    "# Filter rows where `ingredients` is not empty and not just an empty string list\n",
    "modified_df = df[df['ingredients'].apply(lambda x: len(x) > 0 and x != [''])].reset_index(drop=True)"
   ]
  },
  {
   "cell_type": "markdown",
   "id": "1403b909-0dc2-4868-a0ca-6a84dad98bd7",
   "metadata": {},
   "source": [
    "### Removing Irreparable Entries"
   ]
  },
  {
   "cell_type": "markdown",
   "id": "69d62a6f-b8af-473c-b94f-e73e3201b433",
   "metadata": {},
   "source": [
    "This section will involve deleting entries which we have deemed problematic and unfixable, associated reason for deletion will be in the comment."
   ]
  },
  {
   "cell_type": "code",
   "execution_count": 13,
   "id": "e6d1beec-dc79-4936-8d99-0fca46cb2fae",
   "metadata": {},
   "outputs": [],
   "source": [
    "indices_to_drop = [7] # Industrial size recipie, acts as outlier for portions "
   ]
  },
  {
   "cell_type": "code",
   "execution_count": 14,
   "id": "176fa978-a613-46b0-b0fc-98144790207d",
   "metadata": {},
   "outputs": [],
   "source": [
    "# We reset index AFTER dropping all the `indices_to_drop` , as we must retain the indexing while dropping all of them, otherwise dropping them will affect the index of the subsequently dropped recipie\n",
    "modified_df = modified_df.drop(index=indices_to_drop).reset_index(drop=True) "
   ]
  },
  {
   "cell_type": "markdown",
   "id": "4b09c09f-b9cb-4689-a3ae-d9d327b975ef",
   "metadata": {},
   "source": [
    "## Normalizing Ingredients Lists: Separating Combined Strings"
   ]
  },
  {
   "cell_type": "code",
   "execution_count": 18,
   "id": "772c1f21-ec07-4c3e-9052-a4cadb086513",
   "metadata": {},
   "outputs": [],
   "source": [
    "def split_combined_ingredients(ingredients_list):\n",
    "    \"\"\"\n",
    "    Splits a single-item list containing a string of ingredients separated by commas\n",
    "    into a list of individual ingredients. If the list contains more than one item or\n",
    "    if the single item does not contain a comma, the original list is returned.\n",
    "\n",
    "    This is useful for normalizing ingredients lists where all ingredients are combined\n",
    "    into a single string.\n",
    "\n",
    "    Parameters:\n",
    "    - ingredients_list: A list of ingredient(s).\n",
    "\n",
    "    Returns:\n",
    "    - A list of separated and trimmed ingredient strings.\n",
    "    \"\"\"\n",
    "    if len(ingredients_list) == 1 and ',' in ingredients_list[0]:\n",
    "        return [ingredient.strip() for ingredient in ingredients_list[0].split(', ')]\n",
    "    else:\n",
    "        return ingredients_list\n",
    "\n",
    "# Applying the function\n",
    "modified_df['ingredients'] = modified_df['ingredients'].apply(split_combined_ingredients)"
   ]
  },
  {
   "cell_type": "markdown",
   "id": "77b7ea99-901a-4496-a86c-09a27d773136",
   "metadata": {},
   "source": [
    "## Normalizing: Deleting ingredients listed as optional "
   ]
  },
  {
   "cell_type": "code",
   "execution_count": 19,
   "id": "c6e60862-2db0-42a5-9db5-64c26d6b3b11",
   "metadata": {},
   "outputs": [],
   "source": [
    "def filter_optional_ingredients(ingredients_list):\n",
    "    \"\"\"\n",
    "    Filters out ingredients marked as \"optional\" from a list of ingredients.\n",
    "    \n",
    "    This function iterates through a given list of ingredient strings, removing\n",
    "    any ingredient that contains the word \"optional\". The goal is to create a more\n",
    "    concise and essential list of ingredients by excluding those that are not\n",
    "    crucial to the recipe. This step is part of data cleaning to standardize\n",
    "    the ingredients data for further analysis.\n",
    "    \n",
    "    Parameters:\n",
    "    - ingredients_list: A list of strings, where each string is an ingredient.\n",
    "\n",
    "    Returns:\n",
    "    - A list of ingredient strings, excluding any marked as \"optional\".\n",
    "    \"\"\"\n",
    "    optional_keyword = 'optional'\n",
    "    filtered_list = [ingredient for ingredient in ingredients_list if optional_keyword not in ingredient.lower()]\n",
    "    return filtered_list\n",
    "\n",
    "# Apply the filtering function to the 'ingredients' column\n",
    "modified_df['ingredients'] = modified_df['ingredients'].apply(filter_optional_ingredients)\n"
   ]
  },
  {
   "cell_type": "markdown",
   "id": "cec81342-6e18-4c27-8ec4-9da20c064433",
   "metadata": {},
   "source": [
    "# Parsing"
   ]
  },
  {
   "cell_type": "markdown",
   "id": "365a5e02-c7e3-4bfe-96ff-1d97926bbe31",
   "metadata": {},
   "source": [
    "Actual Parsing Function here"
   ]
  },
  {
   "cell_type": "markdown",
   "id": "cfe6dafc-8ea4-4435-b9d7-7821163af5c6",
   "metadata": {},
   "source": [
    "# Post-Parsing Analysis"
   ]
  },
  {
   "cell_type": "markdown",
   "id": "84e302c8-44ad-4a3d-9185-f33e8b753dda",
   "metadata": {},
   "source": [
    "## Tools to Inspect"
   ]
  },
  {
   "cell_type": "markdown",
   "id": "516321d4-f905-48e5-992d-2a1c22b5d7e4",
   "metadata": {},
   "source": [
    "### `inspect_row` function"
   ]
  },
  {
   "cell_type": "markdown",
   "id": "9abc6c74-ab71-43e1-9003-905c41e958cb",
   "metadata": {},
   "source": [
    "### none_rows call"
   ]
  },
  {
   "cell_type": "markdown",
   "id": "49b7fecb-055e-408e-9612-571dbe1d7e26",
   "metadata": {},
   "source": [
    "### none_rows.loc[none_rows[’ingredient_step’] == 0]  → allows us to see where ingredient_step =0"
   ]
  },
  {
   "cell_type": "markdown",
   "id": "c52201cf-e24e-42ec-b9d6-b51037875db9",
   "metadata": {},
   "source": [
    "### Future tools/calls to look into problems"
   ]
  },
  {
   "cell_type": "markdown",
   "id": "71f34d85-2333-4754-b24d-729b9bbcaa54",
   "metadata": {},
   "source": [
    "Can leave this empty for now, just putting in a space here for futureproofing the cleanliness"
   ]
  },
  {
   "cell_type": "markdown",
   "id": "db79c7c5-42e6-49db-846c-cbf349ed4a6a",
   "metadata": {},
   "source": [
    "## Visual Analysis"
   ]
  },
  {
   "cell_type": "markdown",
   "id": "bf8ffaf7-a8b8-457c-8594-d1fe07967d8d",
   "metadata": {},
   "source": [
    "### Graphs/Visuals"
   ]
  },
  {
   "cell_type": "code",
   "execution_count": null,
   "id": "64bdd07a-7a0f-42ab-9080-629cfd9efdfc",
   "metadata": {},
   "outputs": [],
   "source": []
  }
 ],
 "metadata": {
  "kernelspec": {
   "display_name": "Python 3 (ipykernel)",
   "language": "python",
   "name": "python3"
  },
  "language_info": {
   "codemirror_mode": {
    "name": "ipython",
    "version": 3
   },
   "file_extension": ".py",
   "mimetype": "text/x-python",
   "name": "python",
   "nbconvert_exporter": "python",
   "pygments_lexer": "ipython3",
   "version": "3.11.7"
  }
 },
 "nbformat": 4,
 "nbformat_minor": 5
}
