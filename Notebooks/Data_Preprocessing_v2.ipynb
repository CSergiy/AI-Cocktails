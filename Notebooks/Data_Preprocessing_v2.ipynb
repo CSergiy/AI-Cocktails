{
 "cells": [
  {
   "cell_type": "markdown",
   "id": "b746915a-20fb-462b-8b69-a6776d073fd0",
   "metadata": {},
   "source": [
    "# Intro"
   ]
  },
  {
   "cell_type": "markdown",
   "id": "5ad0f2ff-6239-470c-afbc-c347e7b1cdce",
   "metadata": {},
   "source": [
    "## Imports"
   ]
  },
  {
   "cell_type": "code",
   "execution_count": null,
   "id": "503c1281-62f4-42ab-928f-e065a23e23c8",
   "metadata": {},
   "outputs": [],
   "source": [
    "import pandas as pd\n",
    "import re\n",
    "from datasets import load_dataset\n",
    "import matplotlib.pyplot as plt\n",
    "import seaborn as sns"
   ]
  },
  {
   "cell_type": "markdown",
   "id": "18316bd1-a7f5-4591-8078-cfad00a565d9",
   "metadata": {},
   "source": [
    "## Initial Data Inspection"
   ]
  },
  {
   "cell_type": "markdown",
   "id": "0c4acd67-d0eb-4186-a1b3-166d65b81342",
   "metadata": {},
   "source": [
    "# Data Cleaning"
   ]
  },
  {
   "cell_type": "markdown",
   "id": "1ba809e6-bdaa-4bd8-9767-455da0d4ef07",
   "metadata": {},
   "source": [
    "## Lowercase standardization"
   ]
  },
  {
   "cell_type": "markdown",
   "id": "97da6789-bed2-45af-982c-77380e863448",
   "metadata": {},
   "source": [
    "## Deleting Empty Rows"
   ]
  },
  {
   "cell_type": "markdown",
   "id": "3f53e410-7302-4a64-84b9-121836c490b7",
   "metadata": {},
   "source": [
    "### Data Cleaning , retitle afterwords"
   ]
  },
  {
   "cell_type": "markdown",
   "id": "7f1b09a1-e67c-49dd-8861-f157f8df7c60",
   "metadata": {},
   "source": [
    "current section in notebook, `Data Cleaning` (removes empty ingredients)"
   ]
  },
  {
   "cell_type": "markdown",
   "id": "1403b909-0dc2-4868-a0ca-6a84dad98bd7",
   "metadata": {},
   "source": [
    "### Deleting Problematic Rows , retitle afterwords"
   ]
  },
  {
   "cell_type": "markdown",
   "id": "4a62d554-fd32-473b-925b-34f065716c52",
   "metadata": {},
   "source": [
    "Current section in notebook, `Deleting Problematic rows`, (removes [''] ingredients"
   ]
  },
  {
   "cell_type": "markdown",
   "id": "4b09c09f-b9cb-4689-a3ae-d9d327b975ef",
   "metadata": {},
   "source": [
    "## here we put `split_combined_ingredients` function "
   ]
  },
  {
   "cell_type": "markdown",
   "id": "77b7ea99-901a-4496-a86c-09a27d773136",
   "metadata": {},
   "source": [
    "## Deleting ingredients listed as optional "
   ]
  },
  {
   "cell_type": "markdown",
   "id": "cec81342-6e18-4c27-8ec4-9da20c064433",
   "metadata": {},
   "source": [
    "# Parsing"
   ]
  },
  {
   "cell_type": "markdown",
   "id": "365a5e02-c7e3-4bfe-96ff-1d97926bbe31",
   "metadata": {},
   "source": [
    "Actual Parsing Function here"
   ]
  },
  {
   "cell_type": "markdown",
   "id": "cfe6dafc-8ea4-4435-b9d7-7821163af5c6",
   "metadata": {},
   "source": [
    "# Post-Parsing Analysis"
   ]
  },
  {
   "cell_type": "markdown",
   "id": "84e302c8-44ad-4a3d-9185-f33e8b753dda",
   "metadata": {},
   "source": [
    "## Tools to Inspect"
   ]
  },
  {
   "cell_type": "markdown",
   "id": "516321d4-f905-48e5-992d-2a1c22b5d7e4",
   "metadata": {},
   "source": [
    "### `inspect_row` function"
   ]
  },
  {
   "cell_type": "markdown",
   "id": "9abc6c74-ab71-43e1-9003-905c41e958cb",
   "metadata": {},
   "source": [
    "### none_rows call"
   ]
  },
  {
   "cell_type": "markdown",
   "id": "49b7fecb-055e-408e-9612-571dbe1d7e26",
   "metadata": {},
   "source": [
    "### none_rows.loc[none_rows[’ingredient_step’] == 0]  → allows us to see where ingredient_step =0"
   ]
  },
  {
   "cell_type": "markdown",
   "id": "c52201cf-e24e-42ec-b9d6-b51037875db9",
   "metadata": {},
   "source": [
    "### Future tools/calls to look into problems"
   ]
  },
  {
   "cell_type": "markdown",
   "id": "71f34d85-2333-4754-b24d-729b9bbcaa54",
   "metadata": {},
   "source": [
    "Can leave this empty for now, just putting in a space here for futureproofing the cleanliness"
   ]
  },
  {
   "cell_type": "markdown",
   "id": "db79c7c5-42e6-49db-846c-cbf349ed4a6a",
   "metadata": {},
   "source": [
    "## Visual Analysis"
   ]
  },
  {
   "cell_type": "markdown",
   "id": "bf8ffaf7-a8b8-457c-8594-d1fe07967d8d",
   "metadata": {},
   "source": [
    "### Graphs/Visuals"
   ]
  },
  {
   "cell_type": "code",
   "execution_count": null,
   "id": "64bdd07a-7a0f-42ab-9080-629cfd9efdfc",
   "metadata": {},
   "outputs": [],
   "source": []
  }
 ],
 "metadata": {
  "kernelspec": {
   "display_name": "Python 3 (ipykernel)",
   "language": "python",
   "name": "python3"
  },
  "language_info": {
   "codemirror_mode": {
    "name": "ipython",
    "version": 3
   },
   "file_extension": ".py",
   "mimetype": "text/x-python",
   "name": "python",
   "nbconvert_exporter": "python",
   "pygments_lexer": "ipython3",
   "version": "3.11.7"
  }
 },
 "nbformat": 4,
 "nbformat_minor": 5
}
